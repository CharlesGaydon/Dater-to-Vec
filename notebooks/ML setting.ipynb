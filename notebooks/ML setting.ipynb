{
 "cells": [
  {
   "cell_type": "code",
   "execution_count": 9,
   "metadata": {},
   "outputs": [],
   "source": [
    "import pandas as pd\n",
    "import numpy as np\n",
    "import pickle\n",
    "\n",
    "\n",
    "import sys\n",
    "sys.path.insert(0, \"../src\")\n",
    "sys.path.insert(0, \"../\")\n",
    "from d2v_recommender import *\n",
    "from config import config\n",
    "\n",
    "from autosklearn.classification import AutoSklearnClassifier\n",
    "import sklearn"
   ]
  },
  {
   "cell_type": "code",
   "execution_count": 2,
   "metadata": {},
   "outputs": [],
   "source": [
    "d2v = D2V_Recommender()\n",
    "data_dict = d2v.load_data_dict(config.data_dict_path)"
   ]
  },
  {
   "cell_type": "code",
   "execution_count": 3,
   "metadata": {},
   "outputs": [
    {
     "data": {
      "text/plain": [
       "((3202, 50), (3202,), (353, 50), (353,))"
      ]
     },
     "execution_count": 3,
     "metadata": {},
     "output_type": "execute_result"
    }
   ],
   "source": [
    "data_dict[\"X_train\"].shape, data_dict[\"y_train\"].shape, data_dict[\"X_test\"].shape, data_dict[\"y_test\"].shape"
   ]
  },
  {
   "cell_type": "code",
   "execution_count": 6,
   "metadata": {},
   "outputs": [],
   "source": [
    "X_train = data_dict[\"X_train\"]\n",
    "X_test = data_dict[\"X_test\"]\n",
    "y_train = data_dict[\"y_train\"]\n",
    "y_test = data_dict[\"y_test\"]"
   ]
  },
  {
   "cell_type": "code",
   "execution_count": 7,
   "metadata": {},
   "outputs": [],
   "source": [
    "# Auto-ML\n",
    "automl = AutoSklearnClassifier(\n",
    "    time_left_for_this_task=120,\n",
    "    per_run_time_limit=30,\n",
    "    tmp_folder=config.tmp_automl_path,\n",
    "    output_folder=config.output_automl_path,\n",
    ")\n",
    "\n",
    "automl.fit(X_train, y_train, dataset_name='d2v_small')\n",
    "\n",
    "############################################################################\n",
    "# Print the final ensemble constructed by auto-sklearn\n",
    "# ====================================================\n",
    "\n",
    "print(automl.show_models())"
   ]
  },
  {
   "cell_type": "code",
   "execution_count": 46,
   "metadata": {},
   "outputs": [
    {
     "name": "stdout",
     "output_type": "stream",
     "text": [
      "Accuracy score: 0.6402266288951841\n",
      "MCC: 0.1734259263009974\n"
     ]
    }
   ],
   "source": [
    "from sklearn.metrics import *\n",
    "\n",
    "###########################################################################\n",
    "# Get the Score of the final ensemble\n",
    "# ===================================\n",
    "\n",
    "predictions = automl.predict(X_test)\n",
    "proba = automl.predict_proba(X_test)\n",
    "\n",
    "print(\"Accuracy score:\", accuracy_score(y_test, predictions))\n",
    "print(\"MCC:\", matthews_corrcoef(y_test, predictions))"
   ]
  },
  {
   "cell_type": "code",
   "execution_count": null,
   "metadata": {},
   "outputs": [],
   "source": [
    "# # TODO\n",
    "# def automl_binary_classifier(x):\n",
    "#     return automl.predict_proba(x)[0][0]\n",
    "# sklearn.metrics.plot_roc_curve(automl_binary_classifier, X_test, y_test)"
   ]
  },
  {
   "cell_type": "code",
   "execution_count": 47,
   "metadata": {},
   "outputs": [
    {
     "data": {
      "text/plain": [
       "<sklearn.metrics._plot.confusion_matrix.ConfusionMatrixDisplay at 0x7fa156a991d0>"
      ]
     },
     "execution_count": 47,
     "metadata": {},
     "output_type": "execute_result"
    },
    {
     "data": {
      "image/png": "[encoded data removed]",
      "text/plain": [
       "<Figure size 432x288 with 2 Axes>"
      ]
     },
     "metadata": {
      "needs_background": "light"
     },
     "output_type": "display_data"
    }
   ],
   "source": [
    "cm = confusion_matrix(y_test, predictions)\n",
    "disp = ConfusionMatrixDisplay(confusion_matrix=cm,\n",
    "                              display_labels=[\"Ignored\",\"Matched\"])\n",
    "disp.plot()"
   ]
  }
 ],
 "metadata": {
  "kernelspec": {
   "display_name": "Python (d2v_env)",
   "language": "python",
   "name": "d2v_env"
  },
  "language_info": {
   "codemirror_mode": {
    "name": "ipython",
    "version": 3
   },
   "file_extension": ".py",
   "mimetype": "text/x-python",
   "name": "python",
   "nbconvert_exporter": "python",
   "pygments_lexer": "ipython3",
   "version": "3.7.9"
  }
 },
 "nbformat": 4,
 "nbformat_minor": 4
}
