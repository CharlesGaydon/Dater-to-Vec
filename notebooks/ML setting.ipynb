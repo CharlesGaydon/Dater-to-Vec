{
 "cells": [
  {
   "cell_type": "code",
   "execution_count": 27,
   "metadata": {},
   "outputs": [],
   "source": [
    "import pandas as pd\n",
    "import numpy as np\n",
    "import pickle\n",
    "\n",
    "\n",
    "import sys\n",
    "sys.path.insert(0, \"../src\")\n",
    "sys.path.insert(0, \"../\")\n",
    "import shutil\n",
    "from d2v_recommender import *\n",
    "from config import config\n",
    "\n",
    "# models\n",
    "from autosklearn.classification import AutoSklearnClassifier\n",
    "from sklearn.neural_network import MLPClassifier\n",
    "import lightgbm as lgb\n",
    "from autosklearn.metrics import roc_auc\n",
    "\n",
    "import sklearn"
   ]
  },
  {
   "cell_type": "code",
   "execution_count": 2,
   "metadata": {},
   "outputs": [],
   "source": [
    "d2v = D2V_Recommender()\n",
    "data_dict = d2v.load_data_dict(config.data_dict_path)"
   ]
  },
  {
   "source": [
    "data_dict[\"X_train\"].shape, data_dict[\"y_train\"].shape, data_dict[\"X_test\"].shape, data_dict[\"y_test\"].shape"
   ],
   "cell_type": "markdown",
   "metadata": {}
  },
  {
   "cell_type": "code",
   "execution_count": 4,
   "metadata": {},
   "outputs": [],
   "source": [
    "X_train = data_dict[\"X_train\"]\n",
    "X_test = data_dict[\"X_test\"]\n",
    "y_train = data_dict[\"y_train\"]\n",
    "y_test = data_dict[\"y_test\"]"
   ]
  },
  {
   "cell_type": "code",
   "execution_count": 17,
   "metadata": {},
   "outputs": [
    {
     "output_type": "stream",
     "name": "stdout",
     "text": [
      "Iteration 1, loss = 0.64168836\n",
      "Iteration 2, loss = 0.62705735\n",
      "Iteration 3, loss = 0.62509303\n",
      "Iteration 4, loss = 0.62313465\n",
      "Iteration 5, loss = 0.62189604\n",
      "Iteration 6, loss = 0.62072321\n",
      "Iteration 7, loss = 0.62001520\n",
      "Iteration 8, loss = 0.61916844\n",
      "Iteration 9, loss = 0.61895396\n",
      "Iteration 10, loss = 0.61855961\n",
      "Iteration 11, loss = 0.61839974\n",
      "Iteration 12, loss = 0.61811389\n",
      "Iteration 13, loss = 0.61777336\n",
      "Iteration 14, loss = 0.61770118\n",
      "Iteration 15, loss = 0.61745080\n",
      "Iteration 16, loss = 0.61736497\n",
      "Iteration 17, loss = 0.61697394\n",
      "Iteration 18, loss = 0.61716315\n",
      "Iteration 19, loss = 0.61670008\n",
      "Iteration 20, loss = 0.61642179\n",
      "Iteration 21, loss = 0.61651480\n",
      "Iteration 22, loss = 0.61627326\n",
      "Iteration 23, loss = 0.61608836\n",
      "Iteration 24, loss = 0.61584616\n",
      "Iteration 25, loss = 0.61582017\n",
      "Iteration 26, loss = 0.61585111\n",
      "Iteration 27, loss = 0.61542707\n",
      "Iteration 28, loss = 0.61555932\n",
      "Iteration 29, loss = 0.61538844\n",
      "Iteration 30, loss = 0.61513949\n",
      "Iteration 31, loss = 0.61518142\n",
      "Iteration 32, loss = 0.61514132\n",
      "Iteration 33, loss = 0.61482630\n",
      "Iteration 34, loss = 0.61498635\n",
      "Iteration 35, loss = 0.61472852\n",
      "Iteration 36, loss = 0.61470755\n",
      "Iteration 37, loss = 0.61465077\n",
      "Iteration 38, loss = 0.61462772\n",
      "Iteration 39, loss = 0.61435171\n",
      "Iteration 40, loss = 0.61442868\n",
      "Iteration 41, loss = 0.61438370\n",
      "Iteration 42, loss = 0.61434759\n",
      "Iteration 43, loss = 0.61420556\n",
      "Iteration 44, loss = 0.61420218\n",
      "Iteration 45, loss = 0.61389696\n",
      "Iteration 46, loss = 0.61386414\n",
      "Iteration 47, loss = 0.61378364\n",
      "Iteration 48, loss = 0.61396906\n",
      "Iteration 49, loss = 0.61381991\n",
      "Iteration 50, loss = 0.61401654\n",
      "Iteration 51, loss = 0.61373353\n",
      "Iteration 52, loss = 0.61368676\n",
      "Iteration 53, loss = 0.61387193\n",
      "Iteration 54, loss = 0.61362254\n",
      "Iteration 55, loss = 0.61363570\n",
      "Iteration 56, loss = 0.61359375\n",
      "Training loss did not improve more than tol=0.000100 for 10 consecutive epochs. Stopping.\n"
     ]
    }
   ],
   "source": [
    "model = MLPClassifier(random_state=1, max_iter=300, verbose=True).fit(X_train, y_train)"
   ]
  },
  {
   "cell_type": "code",
   "execution_count": 18,
   "metadata": {},
   "outputs": [],
   "source": [
    "# # Auto-ML\n",
    "\n",
    "# shutil.rmtree(config.output_automl_path, ignore_errors=True)\n",
    "# shutil.rmtree(config.tmp_automl_path, ignore_errors=True)\n",
    "# automl = AutoSklearnClassifier(\n",
    "#     time_left_for_this_task=180,\n",
    "#     per_run_time_limit=60,\n",
    "#     tmp_folder=config.tmp_automl_path,  # automated\n",
    "#     output_folder=config.output_automl_path,\n",
    "#     # metric=roc_auc\n",
    "# )\n",
    "\n",
    "# automl.fit(X_train, \n",
    "#             y_train,\n",
    "#             dataset_name='d2v_small')\n",
    "\n",
    "# ############################################################################\n",
    "# # Print the final ensemble constructed by auto-sklearn\n",
    "# # ====================================================\n",
    "\n",
    "# print(automl.show_models())"
   ]
  },
  {
   "cell_type": "code",
   "execution_count": 19,
   "metadata": {},
   "outputs": [
    {
     "output_type": "execute_result",
     "data": {
      "text/plain": [
       "0.7001649917504125"
      ]
     },
     "metadata": {},
     "execution_count": 19
    }
   ],
   "source": [
    "model.score(X_test, y_test)\n",
    "# automl.cv_results_"
   ]
  },
  {
   "cell_type": "code",
   "execution_count": 20,
   "metadata": {},
   "outputs": [
    {
     "output_type": "stream",
     "name": "stdout",
     "text": [
      "Accuracy score: 0.7001649917504125\nMCC: 0.31507022921744143\n"
     ]
    }
   ],
   "source": [
    "from sklearn.metrics import *\n",
    "\n",
    "###########################################################################\n",
    "# Get the Score of the final ensemble\n",
    "# ===================================\n",
    "\n",
    "predictions = model.predict(X_test)\n",
    "proba = model.predict_proba(X_test)\n",
    "\n",
    "print(\"Accuracy score:\", accuracy_score(y_test, predictions))\n",
    "print(\"MCC:\", matthews_corrcoef(y_test, predictions))"
   ]
  },
  {
   "cell_type": "code",
   "execution_count": 26,
   "metadata": {},
   "outputs": [
    {
     "output_type": "execute_result",
     "data": {
      "text/plain": [
       "array([0.63431828])"
      ]
     },
     "metadata": {},
     "execution_count": 26
    }
   ],
   "source": [
    "1 - y_test.sum()/y_test.shape"
   ]
  },
  {
   "cell_type": "code",
   "execution_count": null,
   "metadata": {},
   "outputs": [],
   "source": [
    "# Add to the recommender\n",
    "recommender.set_classifier(model)\n",
    "# predict\n",
    "recommender.predict(1,133)"
   ]
  },
  {
   "cell_type": "code",
   "execution_count": null,
   "metadata": {},
   "outputs": [],
   "source": [
    "# # TODO\n",
    "# def automl_binary_classifier(x):\n",
    "#     return automl.predict_proba(x)[0][0]\n",
    "# sklearn.metrics.plot_roc_curve(automl_binary_classifier, X_test, y_test)"
   ]
  },
  {
   "cell_type": "code",
   "execution_count": null,
   "metadata": {},
   "outputs": [],
   "source": [
    "cm = confusion_matrix(y_test, predictions)\n",
    "disp = ConfusionMatrixDisplay(confusion_matrix=cm,\n",
    "                              display_labels=[\"Ignored\",\"Matched\"])\n",
    "disp.plot()"
   ]
  },
  {
   "cell_type": "code",
   "execution_count": null,
   "metadata": {},
   "outputs": [],
   "source": []
  }
 ],
 "metadata": {
  "kernelspec": {
   "display_name": "Python (d2v_env)",
   "language": "python",
   "name": "d2v_env"
  },
  "language_info": {
   "codemirror_mode": {
    "name": "ipython",
    "version": 3
   },
   "file_extension": ".py",
   "mimetype": "text/x-python",
   "name": "python",
   "nbconvert_exporter": "python",
   "pygments_lexer": "ipython3",
   "version": "3.7.9-final"
  }
 },
 "nbformat": 4,
 "nbformat_minor": 4
}
