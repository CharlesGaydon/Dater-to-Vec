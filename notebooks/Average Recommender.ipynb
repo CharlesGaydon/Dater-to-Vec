{
 "metadata": {
  "language_info": {
   "codemirror_mode": {
    "name": "ipython",
    "version": 3
   },
   "file_extension": ".py",
   "mimetype": "text/x-python",
   "name": "python",
   "nbconvert_exporter": "python",
   "pygments_lexer": "ipython3",
   "version": "3.7.9-final"
  },
  "orig_nbformat": 2,
  "kernelspec": {
   "name": "d2v_env",
   "display_name": "Python (d2v_env)",
   "language": "python"
  }
 },
 "nbformat": 4,
 "nbformat_minor": 2,
 "cells": [
  {
   "source": [
    "# Lauching Average recommender\n"
   ],
   "cell_type": "markdown",
   "metadata": {}
  },
  {
   "cell_type": "code",
   "execution_count": 1,
   "metadata": {},
   "outputs": [],
   "source": [
    "import sys\n",
    "sys.path.insert(0, \"../src\")\n",
    "sys.path.insert(0, \"../\")\n",
    "\n",
    "import argparse\n",
    "\n",
    "from src.average_recommender import AverageRecommender\n",
    "from src.config import config\n",
    "\n",
    "import pandas as pd"
   ]
  },
  {
   "cell_type": "code",
   "execution_count": 9,
   "metadata": {},
   "outputs": [
    {
     "output_type": "stream",
     "name": "stderr",
     "text": [
      "1369it [00:00, 8989.86it/s]RMSE is: 0.239 (n=469)\n",
      "\n"
     ]
    }
   ],
   "source": [
    "train_data = pd.read_csv(config.train_data_path)[[\"rater\",\"rated\",\"m\"]]\n",
    "test_data = pd.read_csv(config.test_data_path)[[\"rater\",\"rated\",\"m\"]]\n",
    "recommender = AverageRecommender()\n",
    "recommender.fit(train_data)\n",
    "rmse, n = recommender.evaluate(test_data)\n",
    "print(f\"RMSE is: {rmse} (n={n})\")"
   ]
  }
 ]
}