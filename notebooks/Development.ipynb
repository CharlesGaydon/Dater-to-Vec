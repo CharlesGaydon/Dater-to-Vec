{
 "cells": [
  {
   "cell_type": "code",
   "execution_count": 36,
   "metadata": {},
   "outputs": [],
   "source": [
    "import pandas as pd\n",
    "import numpy as np"
   ]
  },
  {
   "cell_type": "code",
   "execution_count": 3,
   "metadata": {},
   "outputs": [],
   "source": [
    "raw_data_folder = \"../data/ratings.dat\""
   ]
  },
  {
   "cell_type": "code",
   "execution_count": 5,
   "metadata": {},
   "outputs": [],
   "source": [
    "ratings = pd.read_csv(raw_data_folder, names=[\"u\",\"v\",\"r\"], nrows=1000)"
   ]
  },
  {
   "cell_type": "code",
   "execution_count": 188,
   "metadata": {},
   "outputs": [],
   "source": [
    "train_data_path =  \"../data/matches_train_for_d2v.dat\"\n",
    "test_data_path =  \"../data/matches_test.dat\""
   ]
  },
  {
   "cell_type": "code",
   "execution_count": 192,
   "metadata": {},
   "outputs": [],
   "source": [
    "def load_d2v_formated_data(data_path):\n",
    "    df = pd.read_csv(data_path)\n",
    "    df[\"rated\"] = df[\"rated\"].map(ast.literal_eval)\n",
    "    return df\n",
    "df = load_d2v_formated_data(train_data_path) # rater, rated, r, m"
   ]
  },
  {
   "cell_type": "code",
   "execution_count": 183,
   "metadata": {},
   "outputs": [],
   "source": [
    "from gensim.models import Word2Vec\n",
    "model = Word2Vec(sentences=df[\"rated\"].values, size=100, window=5, min_count=1, workers=4)"
   ]
  },
  {
   "cell_type": "code",
   "execution_count": 184,
   "metadata": {},
   "outputs": [
    {
     "data": {
      "text/plain": [
       "1"
      ]
     },
     "execution_count": 184,
     "metadata": {},
     "output_type": "execute_result"
    }
   ],
   "source": [
    "model.train_count"
   ]
  },
  {
   "cell_type": "code",
   "execution_count": 199,
   "metadata": {},
   "outputs": [
    {
     "ename": "TypeError",
     "evalue": "unhashable type: 'list'",
     "output_type": "error",
     "traceback": [
      "\u001b[1;31m---------------------------------------------------------------------------\u001b[0m",
      "\u001b[1;31mTypeError\u001b[0m                                 Traceback (most recent call last)",
      "\u001b[1;32m<ipython-input-199-28621d5bd2a8>\u001b[0m in \u001b[0;36m<module>\u001b[1;34m\u001b[0m\n\u001b[0;32m      1\u001b[0m \u001b[0mmodel\u001b[0m \u001b[1;33m=\u001b[0m \u001b[0mWord2Vec\u001b[0m\u001b[1;33m(\u001b[0m\u001b[0msize\u001b[0m\u001b[1;33m=\u001b[0m\u001b[1;36m100\u001b[0m\u001b[1;33m,\u001b[0m \u001b[0mwindow\u001b[0m\u001b[1;33m=\u001b[0m\u001b[1;36m5\u001b[0m\u001b[1;33m,\u001b[0m \u001b[0mmin_count\u001b[0m\u001b[1;33m=\u001b[0m\u001b[1;36m1\u001b[0m\u001b[1;33m,\u001b[0m \u001b[0mworkers\u001b[0m\u001b[1;33m=\u001b[0m\u001b[1;36m4\u001b[0m\u001b[1;33m)\u001b[0m\u001b[1;33m\u001b[0m\u001b[1;33m\u001b[0m\u001b[0m\n\u001b[0;32m      2\u001b[0m \u001b[1;32mif\u001b[0m \u001b[0mmodel\u001b[0m\u001b[1;33m.\u001b[0m\u001b[0mtrain_count\u001b[0m \u001b[1;33m==\u001b[0m \u001b[1;36m0\u001b[0m\u001b[1;33m:\u001b[0m\u001b[1;33m\u001b[0m\u001b[1;33m\u001b[0m\u001b[0m\n\u001b[1;32m----> 3\u001b[1;33m     \u001b[0mmodel\u001b[0m\u001b[1;33m.\u001b[0m\u001b[0mbuild_vocab\u001b[0m\u001b[1;33m(\u001b[0m\u001b[0mdf\u001b[0m\u001b[1;33m.\u001b[0m\u001b[0mvalues\u001b[0m\u001b[1;33m)\u001b[0m\u001b[1;33m\u001b[0m\u001b[1;33m\u001b[0m\u001b[0m\n\u001b[0m\u001b[0;32m      4\u001b[0m \u001b[0mmodel\u001b[0m\u001b[1;33m.\u001b[0m\u001b[0mtrain\u001b[0m\u001b[1;33m(\u001b[0m\u001b[0mdf\u001b[0m\u001b[1;33m[\u001b[0m\u001b[1;34m\"rated\"\u001b[0m\u001b[1;33m]\u001b[0m\u001b[1;33m.\u001b[0m\u001b[0mvalues\u001b[0m\u001b[1;33m,\u001b[0m \u001b[0mtotal_examples\u001b[0m\u001b[1;33m=\u001b[0m\u001b[0mmodel\u001b[0m\u001b[1;33m.\u001b[0m\u001b[0mcorpus_count\u001b[0m\u001b[1;33m)\u001b[0m\u001b[1;33m\u001b[0m\u001b[1;33m\u001b[0m\u001b[0m\n",
      "\u001b[1;32m~\\miniconda3\\envs\\d2v_env\\lib\\site-packages\\gensim\\models\\base_any2vec.py\u001b[0m in \u001b[0;36mbuild_vocab\u001b[1;34m(self, sentences, corpus_file, update, progress_per, keep_raw_vocab, trim_rule, **kwargs)\u001b[0m\n\u001b[0;32m    934\u001b[0m         \"\"\"\n\u001b[0;32m    935\u001b[0m         total_words, corpus_count = self.vocabulary.scan_vocab(\n\u001b[1;32m--> 936\u001b[1;33m             sentences=sentences, corpus_file=corpus_file, progress_per=progress_per, trim_rule=trim_rule)\n\u001b[0m\u001b[0;32m    937\u001b[0m         \u001b[0mself\u001b[0m\u001b[1;33m.\u001b[0m\u001b[0mcorpus_count\u001b[0m \u001b[1;33m=\u001b[0m \u001b[0mcorpus_count\u001b[0m\u001b[1;33m\u001b[0m\u001b[1;33m\u001b[0m\u001b[0m\n\u001b[0;32m    938\u001b[0m         \u001b[0mself\u001b[0m\u001b[1;33m.\u001b[0m\u001b[0mcorpus_total_words\u001b[0m \u001b[1;33m=\u001b[0m \u001b[0mtotal_words\u001b[0m\u001b[1;33m\u001b[0m\u001b[1;33m\u001b[0m\u001b[0m\n",
      "\u001b[1;32m~\\miniconda3\\envs\\d2v_env\\lib\\site-packages\\gensim\\models\\word2vec.py\u001b[0m in \u001b[0;36mscan_vocab\u001b[1;34m(self, sentences, corpus_file, progress_per, workers, trim_rule)\u001b[0m\n\u001b[0;32m   1590\u001b[0m             \u001b[0msentences\u001b[0m \u001b[1;33m=\u001b[0m \u001b[0mLineSentence\u001b[0m\u001b[1;33m(\u001b[0m\u001b[0mcorpus_file\u001b[0m\u001b[1;33m)\u001b[0m\u001b[1;33m\u001b[0m\u001b[1;33m\u001b[0m\u001b[0m\n\u001b[0;32m   1591\u001b[0m \u001b[1;33m\u001b[0m\u001b[0m\n\u001b[1;32m-> 1592\u001b[1;33m         \u001b[0mtotal_words\u001b[0m\u001b[1;33m,\u001b[0m \u001b[0mcorpus_count\u001b[0m \u001b[1;33m=\u001b[0m \u001b[0mself\u001b[0m\u001b[1;33m.\u001b[0m\u001b[0m_scan_vocab\u001b[0m\u001b[1;33m(\u001b[0m\u001b[0msentences\u001b[0m\u001b[1;33m,\u001b[0m \u001b[0mprogress_per\u001b[0m\u001b[1;33m,\u001b[0m \u001b[0mtrim_rule\u001b[0m\u001b[1;33m)\u001b[0m\u001b[1;33m\u001b[0m\u001b[1;33m\u001b[0m\u001b[0m\n\u001b[0m\u001b[0;32m   1593\u001b[0m \u001b[1;33m\u001b[0m\u001b[0m\n\u001b[0;32m   1594\u001b[0m         logger.info(\n",
      "\u001b[1;32m~\\miniconda3\\envs\\d2v_env\\lib\\site-packages\\gensim\\models\\word2vec.py\u001b[0m in \u001b[0;36m_scan_vocab\u001b[1;34m(self, sentences, progress_per, trim_rule)\u001b[0m\n\u001b[0;32m   1574\u001b[0m                 )\n\u001b[0;32m   1575\u001b[0m             \u001b[1;32mfor\u001b[0m \u001b[0mword\u001b[0m \u001b[1;32min\u001b[0m \u001b[0msentence\u001b[0m\u001b[1;33m:\u001b[0m\u001b[1;33m\u001b[0m\u001b[1;33m\u001b[0m\u001b[0m\n\u001b[1;32m-> 1576\u001b[1;33m                 \u001b[0mvocab\u001b[0m\u001b[1;33m[\u001b[0m\u001b[0mword\u001b[0m\u001b[1;33m]\u001b[0m \u001b[1;33m+=\u001b[0m \u001b[1;36m1\u001b[0m\u001b[1;33m\u001b[0m\u001b[1;33m\u001b[0m\u001b[0m\n\u001b[0m\u001b[0;32m   1577\u001b[0m             \u001b[0mtotal_words\u001b[0m \u001b[1;33m+=\u001b[0m \u001b[0mlen\u001b[0m\u001b[1;33m(\u001b[0m\u001b[0msentence\u001b[0m\u001b[1;33m)\u001b[0m\u001b[1;33m\u001b[0m\u001b[1;33m\u001b[0m\u001b[0m\n\u001b[0;32m   1578\u001b[0m \u001b[1;33m\u001b[0m\u001b[0m\n",
      "\u001b[1;31mTypeError\u001b[0m: unhashable type: 'list'"
     ]
    }
   ],
   "source": [
    "model = Word2Vec(size=100, window=5, min_count=1, workers=4)\n",
    "if model.train_count == 0:\n",
    "    model.build_vocab(df[\"rated\"].values)\n",
    "model.train(df[\"rated\"].values, total_examples=model.corpus_count)"
   ]
  },
  {
   "cell_type": "code",
   "execution_count": 196,
   "metadata": {},
   "outputs": [
    {
     "data": {
      "text/plain": [
       "['971',\n",
       " '1616',\n",
       " '4633',\n",
       " '8305',\n",
       " '9345',\n",
       " '9729',\n",
       " '10148',\n",
       " '13210',\n",
       " '14604',\n",
       " '14985',\n",
       " '18032',\n",
       " '18287',\n",
       " '18345',\n",
       " '19006',\n",
       " '19727',\n",
       " '21256',\n",
       " '22319',\n",
       " '22915',\n",
       " '24294',\n",
       " '24683',\n",
       " '26084',\n",
       " '33960',\n",
       " '34406',\n",
       " '35647',\n",
       " '37773',\n",
       " '38356',\n",
       " '39414',\n",
       " '40377',\n",
       " '43836',\n",
       " '47314',\n",
       " '49466',\n",
       " '53933',\n",
       " '54929',\n",
       " '61157',\n",
       " '63063',\n",
       " '64257',\n",
       " '65602',\n",
       " '69882',\n",
       " '73281',\n",
       " '73611',\n",
       " '75050',\n",
       " '75243',\n",
       " '83622',\n",
       " '87068',\n",
       " '88179',\n",
       " '88886',\n",
       " '91102',\n",
       " '93105',\n",
       " '97655',\n",
       " '98556',\n",
       " '105720',\n",
       " '113916',\n",
       " '116926',\n",
       " '120342',\n",
       " '121859',\n",
       " '127833',\n",
       " '130970',\n",
       " '131669',\n",
       " '138830',\n",
       " '140246',\n",
       " '144218']"
      ]
     },
     "execution_count": 196,
     "metadata": {},
     "output_type": "execute_result"
    }
   ],
   "source": [
    "df[\"rated\"].values[0]"
   ]
  },
  {
   "cell_type": "code",
   "execution_count": 143,
   "metadata": {},
   "outputs": [
    {
     "data": {
      "text/plain": [
       "array([-0.12723374, -0.02117734,  0.08631784, -0.04747325,  0.00435691,\n",
       "        0.03933713,  0.11287095, -0.11574654, -0.20549986, -0.2265603 ,\n",
       "       -0.23648295, -0.04263033, -0.2536514 ,  0.23384523, -0.03672279,\n",
       "       -0.01631407, -0.10842631,  0.06156471, -0.14064027,  0.05527634,\n",
       "        0.06275773,  0.06318504, -0.09959326,  0.00712821, -0.08789454,\n",
       "       -0.00228224,  0.1091316 , -0.19156131,  0.00605597, -0.0457546 ,\n",
       "        0.03622174,  0.13340448, -0.17070979, -0.14861462,  0.01686485,\n",
       "       -0.20882046,  0.10756664, -0.29366484,  0.03064293, -0.05771504,\n",
       "       -0.07539541, -0.01506608, -0.18282723,  0.02333215,  0.04041461,\n",
       "        0.0650878 , -0.29210657, -0.20053175, -0.21113163,  0.04593519,\n",
       "       -0.05706215,  0.08994237, -0.03851984,  0.04202349,  0.0114984 ,\n",
       "       -0.11510144, -0.1103283 , -0.00689706, -0.02189345, -0.10100105,\n",
       "       -0.22201777,  0.06885063,  0.18893233, -0.18214199,  0.11545525,\n",
       "        0.10921384,  0.02011329, -0.07345657, -0.04266724, -0.2704682 ,\n",
       "       -0.03882618,  0.13494018,  0.01316575,  0.05668966, -0.02481584,\n",
       "        0.00608738, -0.00123853, -0.02291311, -0.03027925,  0.17518961,\n",
       "        0.00929844,  0.11051226, -0.00119626,  0.17840928,  0.11588949,\n",
       "        0.02171398, -0.10903299,  0.08839891,  0.13737857, -0.0750239 ,\n",
       "       -0.06407483,  0.00145796,  0.10390666,  0.21835002, -0.11468565,\n",
       "       -0.03683848,  0.02295773, -0.05706289, -0.45392662, -0.11658616],\n",
       "      dtype=float32)"
      ]
     },
     "execution_count": 143,
     "metadata": {},
     "output_type": "execute_result"
    }
   ],
   "source": [
    "model.wv[\"133\"] - model.wv[\"971\"]"
   ]
  },
  {
   "cell_type": "code",
   "execution_count": 168,
   "metadata": {},
   "outputs": [],
   "source": [
    "def load_d2v_formated_data(data_path):\n",
    "    df = pd.read_csv(data_path)\n",
    "    df[\"rated\"] = df[\"rated\"].map(ast.literal_eval)\n",
    "    return df\n",
    "df = load_d2v_formated_data(train_data_path)"
   ]
  },
  {
   "cell_type": "code",
   "execution_count": 203,
   "metadata": {},
   "outputs": [
    {
     "data": {
      "text/plain": [
       "0      [971, 35647, 87068, 13210, 9345, 127833, 14024...\n",
       "1      [5577, 12243, 25083, 55238, 7006, 134835, 6206...\n",
       "2                         [25083, 130815, 93891, 105720]\n",
       "3      [27357, 7964, 6499, 136297, 11878, 174211, 132...\n",
       "4      [102366, 3015, 12107, 91366, 135266, 87789, 25...\n",
       "                             ...                        \n",
       "995    [78597, 85704, 33216, 67265, 8196, 13029, 5505...\n",
       "996    [25083, 147908, 91366, 59874, 115192, 12795, 7...\n",
       "997          [102751, 3446, 12845, 53583, 71636, 112075]\n",
       "998    [115129, 135266, 12227, 24734, 163591, 26193, ...\n",
       "999    [68140, 105522, 115872, 2111, 70720, 45418, 31...\n",
       "Name: rated, Length: 1000, dtype: object"
      ]
     },
     "execution_count": 203,
     "metadata": {},
     "output_type": "execute_result"
    }
   ],
   "source": [
    "def list_shuffler(x):\n",
    "    np.random.shuffle(x)\n",
    "    return x\n",
    "df[\"rated\"].apply(list_shuffler)"
   ]
  },
  {
   "cell_type": "code",
   "execution_count": 204,
   "metadata": {},
   "outputs": [
    {
     "data": {
      "text/plain": [
       "0      [971, 35647, 87068, 13210, 9345, 127833, 14024...\n",
       "1      [5577, 12243, 25083, 55238, 7006, 134835, 6206...\n",
       "2                         [25083, 130815, 93891, 105720]\n",
       "3      [27357, 7964, 6499, 136297, 11878, 174211, 132...\n",
       "4      [102366, 3015, 12107, 91366, 135266, 87789, 25...\n",
       "                             ...                        \n",
       "995    [78597, 85704, 33216, 67265, 8196, 13029, 5505...\n",
       "996    [25083, 147908, 91366, 59874, 115192, 12795, 7...\n",
       "997          [102751, 3446, 12845, 53583, 71636, 112075]\n",
       "998    [115129, 135266, 12227, 24734, 163591, 26193, ...\n",
       "999    [68140, 105522, 115872, 2111, 70720, 45418, 31...\n",
       "Name: rated, Length: 1000, dtype: object"
      ]
     },
     "execution_count": 204,
     "metadata": {},
     "output_type": "execute_result"
    }
   ],
   "source": [
    "df[\"rated\"]"
   ]
  }
 ],
 "metadata": {
  "kernelspec": {
   "display_name": "Python 3",
   "language": "python",
   "name": "python3"
  },
  "language_info": {
   "codemirror_mode": {
    "name": "ipython",
    "version": 3
   },
   "file_extension": ".py",
   "mimetype": "text/x-python",
   "name": "python",
   "nbconvert_exporter": "python",
   "pygments_lexer": "ipython3",
   "version": "3.7.9"
  }
 },
 "nbformat": 4,
 "nbformat_minor": 4
}
