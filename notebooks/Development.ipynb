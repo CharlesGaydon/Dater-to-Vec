{
 "cells": [
  {
   "cell_type": "code",
   "execution_count": 3,
   "metadata": {},
   "outputs": [],
   "source": [
    "import pandas as pd\n",
    "import numpy as np\n",
    "# import pickle\n",
    "\n",
    "import sys\n",
    "sys.path.insert(0, \"../src\")\n",
    "sys.path.insert(0, \"../\")\n",
    "from d2v_recommender import *\n",
    "from config import config\n",
    "from src.processing import load_d2v_formated_data\n",
    "from src.d2v_recommender import D2V_Recommender\n"
   ]
  },
  {
   "cell_type": "code",
   "execution_count": 4,
   "metadata": {},
   "outputs": [
    {
     "output_type": "stream",
     "name": "stderr",
     "text": [
      "WARNING:gensim.models.base_any2vec:consider setting layer size to a multiple of 4 for greater performance\n"
     ]
    }
   ],
   "source": [
    "recommender = D2V_Recommender(**config.d2v_params)\n",
    "# recommender.load_rated_vec(config.rated_embeddings_path)\n",
    "# _ = recommender.load_rater_vec(config.rater_embeddings_path)"
   ]
  },
  {
   "cell_type": "code",
   "execution_count": 5,
   "metadata": {},
   "outputs": [
    {
     "output_type": "stream",
     "name": "stdout",
     "text": [
      "(1000, 3)\n"
     ]
    },
    {
     "output_type": "execute_result",
     "data": {
      "text/plain": [
       "   rater   rated    m\n",
       "0   8243    2626  1.0\n",
       "1   8243  217574  0.0\n",
       "2   8243  202611  1.0\n",
       "3   8243    7315  0.0\n",
       "4   8243   54759  0.0"
      ],
      "text/html": "<div>\n<style scoped>\n    .dataframe tbody tr th:only-of-type {\n        vertical-align: middle;\n    }\n\n    .dataframe tbody tr th {\n        vertical-align: top;\n    }\n\n    .dataframe thead th {\n        text-align: right;\n    }\n</style>\n<table border=\"1\" class=\"dataframe\">\n  <thead>\n    <tr style=\"text-align: right;\">\n      <th></th>\n      <th>rater</th>\n      <th>rated</th>\n      <th>m</th>\n    </tr>\n  </thead>\n  <tbody>\n    <tr>\n      <th>0</th>\n      <td>8243</td>\n      <td>2626</td>\n      <td>1.0</td>\n    </tr>\n    <tr>\n      <th>1</th>\n      <td>8243</td>\n      <td>217574</td>\n      <td>0.0</td>\n    </tr>\n    <tr>\n      <th>2</th>\n      <td>8243</td>\n      <td>202611</td>\n      <td>1.0</td>\n    </tr>\n    <tr>\n      <th>3</th>\n      <td>8243</td>\n      <td>7315</td>\n      <td>0.0</td>\n    </tr>\n    <tr>\n      <th>4</th>\n      <td>8243</td>\n      <td>54759</td>\n      <td>0.0</td>\n    </tr>\n  </tbody>\n</table>\n</div>"
     },
     "metadata": {},
     "execution_count": 5
    }
   ],
   "source": [
    "train_ = pd.read_csv(config.train_data_path, nrows=1000)[[\"rater\",\"rated\",\"m\"]]\n",
    "test_ = pd.read_csv(config.test_data_path, nrows=1000)[[\"rater\",\"rated\",\"m\"]]\n",
    "print(train_.shape)\n",
    "train_.head() "
   ]
  },
  {
   "cell_type": "code",
   "execution_count": 10,
   "metadata": {},
   "outputs": [
    {
     "output_type": "error",
     "ename": "NameError",
     "evalue": "name 'self' is not defined",
     "traceback": [
      "\u001b[0;31m---------------------------------------------------------------------------\u001b[0m",
      "\u001b[0;31mNameError\u001b[0m                                 Traceback (most recent call last)",
      "\u001b[0;32m<ipython-input-10-f25118810d55>\u001b[0m in \u001b[0;36m<module>\u001b[0;34m\u001b[0m\n\u001b[1;32m      1\u001b[0m \u001b[0md2v_train\u001b[0m \u001b[0;34m=\u001b[0m \u001b[0mload_d2v_formated_data\u001b[0m\u001b[0;34m(\u001b[0m\u001b[0mconfig\u001b[0m\u001b[0;34m.\u001b[0m\u001b[0md2v_train_data_path\u001b[0m\u001b[0;34m)\u001b[0m\u001b[0;34m\u001b[0m\u001b[0;34m\u001b[0m\u001b[0m\n\u001b[1;32m      2\u001b[0m model = Word2Vec(\n\u001b[0;32m----> 3\u001b[0;31m             \u001b[0msize\u001b[0m\u001b[0;34m=\u001b[0m\u001b[0mself\u001b[0m\u001b[0;34m.\u001b[0m\u001b[0membedding_size\u001b[0m\u001b[0;34m,\u001b[0m\u001b[0;34m\u001b[0m\u001b[0;34m\u001b[0m\u001b[0m\n\u001b[0m\u001b[1;32m      4\u001b[0m             \u001b[0mwindow\u001b[0m\u001b[0;34m=\u001b[0m\u001b[0mself\u001b[0m\u001b[0;34m.\u001b[0m\u001b[0mwindow\u001b[0m\u001b[0;34m,\u001b[0m\u001b[0;34m\u001b[0m\u001b[0;34m\u001b[0m\u001b[0m\n\u001b[1;32m      5\u001b[0m             \u001b[0mmin_count\u001b[0m\u001b[0;34m=\u001b[0m\u001b[0mself\u001b[0m\u001b[0;34m.\u001b[0m\u001b[0mmin_count\u001b[0m\u001b[0;34m,\u001b[0m\u001b[0;34m\u001b[0m\u001b[0;34m\u001b[0m\u001b[0m\n",
      "\u001b[0;31mNameError\u001b[0m: name 'self' is not defined"
     ]
    }
   ],
   "source": [
    "d2v_train = load_d2v_formated_data(config.d2v_train_data_path)\n",
    "model = Word2Vec(\n",
    "            size=self.embedding_size,\n",
    "            window=self.window,\n",
    "            min_count=self.min_count,\n",
    "            workers=self.workers,\n",
    "        )\n",
    "if model.train_count == 0:\n",
    "    model.build_vocab(d2v_train.values)\n",
    "\n",
    "for epoch_ in tqdm(range(self.num_epochs)):\n",
    "    model.train(d2v_train.values, total_examples=model.corpus_count, epochs=1)\n",
    "    d2v_train.apply(list_shuffler)  # inplace checked.\n",
    "\n",
    "    if epoch_ % 10 == 0:\n",
    "        print(\"Saving model weights and embeddings.\")"
   ]
  },
  {
   "cell_type": "code",
   "execution_count": 8,
   "metadata": {},
   "outputs": [
    {
     "output_type": "execute_result",
     "data": {
      "text/plain": [
       "{'X_train': array([[ 0.735173  ,  0.43930018, -1.5119457 , ..., -0.15698677,\n",
       "          0.3563918 , -0.18741247],\n",
       "        [ 0.7813366 ,  0.48546383, -1.465782  , ..., -0.11082312,\n",
       "          0.40255544, -0.14124882],\n",
       "        [ 0.7726087 ,  0.4767359 , -1.47451   , ..., -0.11955106,\n",
       "          0.3938275 , -0.14997676],\n",
       "        ...,\n",
       "        [ 0.10538169, -0.6174815 , -0.7598984 , ..., -0.191145  ,\n",
       "          0.01012876, -0.52110934],\n",
       "        [-1.2907404 , -2.0136037 , -2.1560204 , ..., -1.587267  ,\n",
       "         -1.3859932 , -1.9172313 ],\n",
       "        [-0.01936588, -0.7422291 , -0.884646  , ..., -0.31589258,\n",
       "         -0.11461882, -0.6458569 ]], dtype=float32),\n",
       " 'X_test': array([[ 0.00776041, -0.09572308, -0.26906517, ..., -0.11914238,\n",
       "          0.01176206, -0.14056675],\n",
       "        [ 0.03054812, -0.07293537, -0.24627745, ..., -0.09635467,\n",
       "          0.03454977, -0.11777904],\n",
       "        [ 0.02498858, -0.07849491, -0.251837  , ..., -0.10191421,\n",
       "          0.02899024, -0.12333858],\n",
       "        ...,\n",
       "        [ 0.0104408 , -0.20322216, -0.4041344 , ..., -0.15745272,\n",
       "          0.00795323, -0.22894765],\n",
       "        [ 0.00842709, -0.20523585, -0.40614808, ..., -0.15946642,\n",
       "          0.00593953, -0.23096135],\n",
       "        [-0.03132473, -0.6610177 , -0.7354786 , ..., -0.30986267,\n",
       "         -0.05002866, -0.7613248 ]], dtype=float32),\n",
       " 'y_train': array([0., 0., 0., ..., 1., 0., 0.]),\n",
       " 'y_test': array([1., 0., 1., ..., 1., 0., 0.])}"
      ]
     },
     "metadata": {},
     "execution_count": 8
    }
   ],
   "source": [
    "data_dict[\"X_train\"]"
   ]
  },
  {
   "cell_type": "code",
   "execution_count": 12,
   "metadata": {},
   "outputs": [],
   "source": [
    "def foo(data):\n",
    "    print(\"begin\")\n",
    "    data.shuffle()\n",
    "    for i, data_row in elen(d2v_train)):\n",
    "        print(\"before yield\", i)\n",
    "        yield data[i]\n",
    "        print(\"after yield\", i)\n",
    "    print(\"end\")"
   ]
  },
  {
   "cell_type": "code",
   "execution_count": 24,
   "metadata": {},
   "outputs": [],
   "source": [
    "class shuffle_generator:\n",
    "    def __init__(self, data):\n",
    "        self.data = data\n",
    "\n",
    "    def __iter__(self):\n",
    "        self.data.apply(np.random.shuffle)\n",
    "        return shuffle_generator_iter(self.data)\n",
    "\n",
    "class shuffle_generator_iter:\n",
    "    def __init__(self, data):\n",
    "        self.i = 0\n",
    "        self.data = data\n",
    "        self.data_length = len(data)\n",
    "\n",
    "    def __iter__(self):\n",
    "        # Iterators are iterables too.\n",
    "        # Adding this functions to make them so.\n",
    "        return self\n",
    "\n",
    "    def __next__(self):\n",
    "        if self.i < self.data_length:\n",
    "            i = self.i\n",
    "            self.i += 1\n",
    "            return self.data[i]\n",
    "        else:\n",
    "            raise StopIteration()"
   ]
  },
  {
   "cell_type": "code",
   "execution_count": 36,
   "metadata": {
    "tags": []
   },
   "outputs": [
    {
     "output_type": "stream",
     "name": "stdout",
     "text": [
      "['53933', '213951', '188352', '47314', '93105', '24683', '171583', '64257', '26084', '61157', '75050', '18345', '8305', '140246', '105720', '39414', '113916', '19727', '87068', '179897', '173584', '9345', '1616', '88179', '178540', '127833', '63063', '91102', '153766', '37773', '120342', '13210', '40377', '83622', '9729', '38356', '131669', '65602', '34406', '116926', '97655', '18032', '88886', '19006', '130970', '33960', '69882', '54929', '43836', '158548', '138830', '24294', '35647', '22319', '18287', '121859', '971', '203712', '14985', '207827', '22915', '98556', '14604']\n['38594', '144218', '35647', '7006', '70118', '172906', '105269', '134835', '78864', '133', '25083', '17204', '12038', '85264', '43970', '207798', '171777', '5577', '136180', '151118', '117149', '82946', '217639', '220059', '119447', '4672', '121859', '202483', '55238', '79507', '31847', '146508', '62064']\n['25083', '105720', '93891']\n['127833', '213951', '39414', '19006', '43836', '69882', '8305', '203712', '54929', '179897', '47314', '53933', '121859', '40377', '173584', '105720', '37773', '9729', '87068', '1616', '9345', '24683', '120342', '93105', '18287', '171583', '38356', '88886', '19727', '188352', '18032', '24294', '18345', '131669', '207827', '14604', '34406', '83622', '22915', '65602', '22319', '35647', '13210', '116926', '64257', '97655', '113916', '91102', '158548', '140246', '153766', '971', '33960', '14985', '61157', '75050', '130970', '98556', '63063', '138830', '88179', '178540', '26084']\n['5577', '117149', '133', '85264', '31847', '4672', '78864', '43970', '134835', '70118', '7006', '217639', '202483', '105269', '12038', '151118', '220059', '146508', '17204', '55238', '136180', '62064', '38594', '121859', '144218', '119447', '171777', '35647', '207798', '25083', '82946', '79507', '172906']\n['25083', '105720', '93891']\n['18345', '98556', '93105', '97655', '38356', '213951', '153766', '88886', '13210', '116926', '47314', '105720', '138830', '26084', '24294', '9729', '22319', '54929', '40377', '121859', '188352', '171583', '24683', '91102', '22915', '18287', '39414', '19006', '64257', '65602', '178540', '207827', '83622', '33960', '8305', '88179', '173584', '127833', '34406', '130970', '69882', '18032', '113916', '37773', '61157', '179897', '140246', '63063', '14604', '19727', '158548', '75050', '120342', '87068', '971', '1616', '9345', '131669', '43836', '203712', '53933', '35647', '14985']\n['119447', '82946', '62064', '117149', '79507', '207798', '202483', '38594', '7006', '31847', '171777', '105269', '151118', '217639', '220059', '55238', '4672', '146508', '144218', '133', '12038', '70118', '43970', '5577', '134835', '25083', '85264', '35647', '172906', '121859', '78864', '136180', '17204']\n['93891', '25083', '105720']\n"
     ]
    }
   ],
   "source": [
    "my_generator = shuffle_generator(d2v_train[:3])\n",
    "for i in range(3):\n",
    "    for j in my_generator:\n",
    "        print(j)"
   ]
  },
  {
   "cell_type": "code",
   "execution_count": 2,
   "metadata": {},
   "outputs": [
    {
     "output_type": "stream",
     "name": "stdout",
     "text": [
      "Epoch: 1\t  Loss: 24.737483978271484\nEpoch: 2\t  Loss: 53.7001838684082\nEpoch: 3\t  Loss: 80.53500366210938\nEpoch: 4\t  Loss: 108.78634643554688\nEpoch: 5\t  Loss: 137.04986572265625\n"
     ]
    },
    {
     "output_type": "execute_result",
     "data": {
      "text/plain": [
       "(45, 45)"
      ]
     },
     "metadata": {},
     "execution_count": 2
    }
   ],
   "source": [
    "import gensim\n",
    "from gensim.models.callbacks import CallbackAny2Vec\n",
    "\n",
    "class LossLogger(CallbackAny2Vec):\n",
    "    \"\"\"Output loss at each epoch\"\"\"\n",
    "\n",
    "    def __init__(self):\n",
    "        self.epoch = 1\n",
    "        self.losses = []\n",
    "\n",
    "    def on_epoch_begin(self, model):\n",
    "        print(f\"Epoch: {self.epoch}\", end=\"\\t\")\n",
    "\n",
    "    def on_epoch_end(self, model):\n",
    "        loss = model.get_latest_training_loss()\n",
    "        self.losses.append(loss)\n",
    "        print(f\"  Loss: {loss}\")\n",
    "        self.epoch += 1\n",
    "data = [[\"12\",\"122\",\"135\"], [\"12\",\"122\",\"135\"], [\"12\",\"122\",\"135\"]]\n",
    "model = gensim.models.Word2Vec(\n",
    "    size=150,\n",
    "    window=3,\n",
    "    min_count=2,\n",
    "    workers=3,\n",
    "    sample=0,\n",
    "    callbacks=[LossLogger()],\n",
    "    compute_loss =True)\n",
    "if model.train_count == 0:\n",
    "    model.build_vocab(data)\n",
    "\n",
    "model.train(\n",
    "    data,\n",
    "    total_examples=model.corpus_count,\n",
    "    epochs=5,\n",
    "    compute_loss=True,\n",
    ")"
   ]
  },
  {
   "cell_type": "code",
   "execution_count": null,
   "metadata": {},
   "outputs": [],
   "source": []
  }
 ],
 "metadata": {
  "kernelspec": {
   "display_name": "Python (d2v_env)",
   "language": "python",
   "name": "d2v_env"
  },
  "language_info": {
   "codemirror_mode": {
    "name": "ipython",
    "version": 3
   },
   "file_extension": ".py",
   "mimetype": "text/x-python",
   "name": "python",
   "nbconvert_exporter": "python",
   "pygments_lexer": "ipython3",
   "version": "3.7.9-final"
  }
 },
 "nbformat": 4,
 "nbformat_minor": 4
}
