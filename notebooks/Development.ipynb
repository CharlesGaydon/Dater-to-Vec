{
 "cells": [
  {
   "cell_type": "code",
   "execution_count": 8,
   "metadata": {},
   "outputs": [],
   "source": [
    "import pandas as pd\n",
    "import numpy as np\n",
    "import ast"
   ]
  },
  {
   "cell_type": "code",
   "execution_count": 4,
   "metadata": {},
   "outputs": [],
   "source": [
    "raw_data_folder = \"../data/ratings.dat\""
   ]
  },
  {
   "cell_type": "code",
   "execution_count": 5,
   "metadata": {},
   "outputs": [],
   "source": [
    "ratings = pd.read_csv(raw_data_folder, names=[\"u\",\"v\",\"r\"], nrows=1000)"
   ]
  },
  {
   "cell_type": "code",
   "execution_count": 6,
   "metadata": {},
   "outputs": [],
   "source": [
    "train_data_path =  \"../data/matches_train_for_d2v.dat\"\n",
    "test_data_path =  \"../data/matches_test.dat\""
   ]
  },
  {
   "cell_type": "code",
   "execution_count": 12,
   "metadata": {},
   "outputs": [],
   "source": [
    "def load_d2v_formated_data(data_path):\n",
    "    df = pd.read_csv(data_path)\n",
    "    df[\"rated\"] = df[\"rated\"].map(ast.literal_eval)\n",
    "    return df\n",
    "df = load_d2v_formated_data(train_data_path) # rater, rated, r, m"
   ]
  },
  {
   "cell_type": "code",
   "execution_count": 28,
   "metadata": {},
   "outputs": [
    {
     "data": {
      "text/plain": [
       "rated    [971, 1616, 4633, 8305, 9345, 9729, 10148, 132...\n",
       "Name: a0, dtype: object"
      ]
     },
     "execution_count": 28,
     "metadata": {},
     "output_type": "execute_result"
    }
   ],
   "source": [
    "df = df.loc[:10]\n",
    "df[\"idx\"] = df.reset_index()[\"index\"].apply(lambda x: \"a\"+str(x))\n",
    "df.set_index(\"idx\").loc[\"a0\"]"
   ]
  },
  {
   "cell_type": "code",
   "execution_count": 183,
   "metadata": {},
   "outputs": [],
   "source": [
    "from gensim.models import Word2Vec\n",
    "model = Word2Vec(sentences=df[\"rated\"].values, size=100, window=5, min_count=1, workers=4)"
   ]
  },
  {
   "cell_type": "code",
   "execution_count": 184,
   "metadata": {},
   "outputs": [
    {
     "data": {
      "text/plain": [
       "1"
      ]
     },
     "execution_count": 184,
     "metadata": {},
     "output_type": "execute_result"
    }
   ],
   "source": [
    "model.train_count"
   ]
  },
  {
   "cell_type": "code",
   "execution_count": 199,
   "metadata": {},
   "outputs": [
    {
     "ename": "TypeError",
     "evalue": "unhashable type: 'list'",
     "output_type": "error",
     "traceback": [
      "\u001b[1;31m---------------------------------------------------------------------------\u001b[0m",
      "\u001b[1;31mTypeError\u001b[0m                                 Traceback (most recent call last)",
      "\u001b[1;32m<ipython-input-199-28621d5bd2a8>\u001b[0m in \u001b[0;36m<module>\u001b[1;34m\u001b[0m\n\u001b[0;32m      1\u001b[0m \u001b[0mmodel\u001b[0m \u001b[1;33m=\u001b[0m \u001b[0mWord2Vec\u001b[0m\u001b[1;33m(\u001b[0m\u001b[0msize\u001b[0m\u001b[1;33m=\u001b[0m\u001b[1;36m100\u001b[0m\u001b[1;33m,\u001b[0m \u001b[0mwindow\u001b[0m\u001b[1;33m=\u001b[0m\u001b[1;36m5\u001b[0m\u001b[1;33m,\u001b[0m \u001b[0mmin_count\u001b[0m\u001b[1;33m=\u001b[0m\u001b[1;36m1\u001b[0m\u001b[1;33m,\u001b[0m \u001b[0mworkers\u001b[0m\u001b[1;33m=\u001b[0m\u001b[1;36m4\u001b[0m\u001b[1;33m)\u001b[0m\u001b[1;33m\u001b[0m\u001b[1;33m\u001b[0m\u001b[0m\n\u001b[0;32m      2\u001b[0m \u001b[1;32mif\u001b[0m \u001b[0mmodel\u001b[0m\u001b[1;33m.\u001b[0m\u001b[0mtrain_count\u001b[0m \u001b[1;33m==\u001b[0m \u001b[1;36m0\u001b[0m\u001b[1;33m:\u001b[0m\u001b[1;33m\u001b[0m\u001b[1;33m\u001b[0m\u001b[0m\n\u001b[1;32m----> 3\u001b[1;33m     \u001b[0mmodel\u001b[0m\u001b[1;33m.\u001b[0m\u001b[0mbuild_vocab\u001b[0m\u001b[1;33m(\u001b[0m\u001b[0mdf\u001b[0m\u001b[1;33m.\u001b[0m\u001b[0mvalues\u001b[0m\u001b[1;33m)\u001b[0m\u001b[1;33m\u001b[0m\u001b[1;33m\u001b[0m\u001b[0m\n\u001b[0m\u001b[0;32m      4\u001b[0m \u001b[0mmodel\u001b[0m\u001b[1;33m.\u001b[0m\u001b[0mtrain\u001b[0m\u001b[1;33m(\u001b[0m\u001b[0mdf\u001b[0m\u001b[1;33m[\u001b[0m\u001b[1;34m\"rated\"\u001b[0m\u001b[1;33m]\u001b[0m\u001b[1;33m.\u001b[0m\u001b[0mvalues\u001b[0m\u001b[1;33m,\u001b[0m \u001b[0mtotal_examples\u001b[0m\u001b[1;33m=\u001b[0m\u001b[0mmodel\u001b[0m\u001b[1;33m.\u001b[0m\u001b[0mcorpus_count\u001b[0m\u001b[1;33m)\u001b[0m\u001b[1;33m\u001b[0m\u001b[1;33m\u001b[0m\u001b[0m\n",
      "\u001b[1;32m~\\miniconda3\\envs\\d2v_env\\lib\\site-packages\\gensim\\models\\base_any2vec.py\u001b[0m in \u001b[0;36mbuild_vocab\u001b[1;34m(self, sentences, corpus_file, update, progress_per, keep_raw_vocab, trim_rule, **kwargs)\u001b[0m\n\u001b[0;32m    934\u001b[0m         \"\"\"\n\u001b[0;32m    935\u001b[0m         total_words, corpus_count = self.vocabulary.scan_vocab(\n\u001b[1;32m--> 936\u001b[1;33m             sentences=sentences, corpus_file=corpus_file, progress_per=progress_per, trim_rule=trim_rule)\n\u001b[0m\u001b[0;32m    937\u001b[0m         \u001b[0mself\u001b[0m\u001b[1;33m.\u001b[0m\u001b[0mcorpus_count\u001b[0m \u001b[1;33m=\u001b[0m \u001b[0mcorpus_count\u001b[0m\u001b[1;33m\u001b[0m\u001b[1;33m\u001b[0m\u001b[0m\n\u001b[0;32m    938\u001b[0m         \u001b[0mself\u001b[0m\u001b[1;33m.\u001b[0m\u001b[0mcorpus_total_words\u001b[0m \u001b[1;33m=\u001b[0m \u001b[0mtotal_words\u001b[0m\u001b[1;33m\u001b[0m\u001b[1;33m\u001b[0m\u001b[0m\n",
      "\u001b[1;32m~\\miniconda3\\envs\\d2v_env\\lib\\site-packages\\gensim\\models\\word2vec.py\u001b[0m in \u001b[0;36mscan_vocab\u001b[1;34m(self, sentences, corpus_file, progress_per, workers, trim_rule)\u001b[0m\n\u001b[0;32m   1590\u001b[0m             \u001b[0msentences\u001b[0m \u001b[1;33m=\u001b[0m \u001b[0mLineSentence\u001b[0m\u001b[1;33m(\u001b[0m\u001b[0mcorpus_file\u001b[0m\u001b[1;33m)\u001b[0m\u001b[1;33m\u001b[0m\u001b[1;33m\u001b[0m\u001b[0m\n\u001b[0;32m   1591\u001b[0m \u001b[1;33m\u001b[0m\u001b[0m\n\u001b[1;32m-> 1592\u001b[1;33m         \u001b[0mtotal_words\u001b[0m\u001b[1;33m,\u001b[0m \u001b[0mcorpus_count\u001b[0m \u001b[1;33m=\u001b[0m \u001b[0mself\u001b[0m\u001b[1;33m.\u001b[0m\u001b[0m_scan_vocab\u001b[0m\u001b[1;33m(\u001b[0m\u001b[0msentences\u001b[0m\u001b[1;33m,\u001b[0m \u001b[0mprogress_per\u001b[0m\u001b[1;33m,\u001b[0m \u001b[0mtrim_rule\u001b[0m\u001b[1;33m)\u001b[0m\u001b[1;33m\u001b[0m\u001b[1;33m\u001b[0m\u001b[0m\n\u001b[0m\u001b[0;32m   1593\u001b[0m \u001b[1;33m\u001b[0m\u001b[0m\n\u001b[0;32m   1594\u001b[0m         logger.info(\n",
      "\u001b[1;32m~\\miniconda3\\envs\\d2v_env\\lib\\site-packages\\gensim\\models\\word2vec.py\u001b[0m in \u001b[0;36m_scan_vocab\u001b[1;34m(self, sentences, progress_per, trim_rule)\u001b[0m\n\u001b[0;32m   1574\u001b[0m                 )\n\u001b[0;32m   1575\u001b[0m             \u001b[1;32mfor\u001b[0m \u001b[0mword\u001b[0m \u001b[1;32min\u001b[0m \u001b[0msentence\u001b[0m\u001b[1;33m:\u001b[0m\u001b[1;33m\u001b[0m\u001b[1;33m\u001b[0m\u001b[0m\n\u001b[1;32m-> 1576\u001b[1;33m                 \u001b[0mvocab\u001b[0m\u001b[1;33m[\u001b[0m\u001b[0mword\u001b[0m\u001b[1;33m]\u001b[0m \u001b[1;33m+=\u001b[0m \u001b[1;36m1\u001b[0m\u001b[1;33m\u001b[0m\u001b[1;33m\u001b[0m\u001b[0m\n\u001b[0m\u001b[0;32m   1577\u001b[0m             \u001b[0mtotal_words\u001b[0m \u001b[1;33m+=\u001b[0m \u001b[0mlen\u001b[0m\u001b[1;33m(\u001b[0m\u001b[0msentence\u001b[0m\u001b[1;33m)\u001b[0m\u001b[1;33m\u001b[0m\u001b[1;33m\u001b[0m\u001b[0m\n\u001b[0;32m   1578\u001b[0m \u001b[1;33m\u001b[0m\u001b[0m\n",
      "\u001b[1;31mTypeError\u001b[0m: unhashable type: 'list'"
     ]
    }
   ],
   "source": [
    "model = Word2Vec(size=100, window=5, min_count=1, workers=4)\n",
    "if model.train_count == 0:\n",
    "    model.build_vocab(df[\"rated\"].values)\n",
    "model.train(df[\"rated\"].values, total_examples=model.corpus_count)"
   ]
  },
  {
   "cell_type": "code",
   "execution_count": 196,
   "metadata": {},
   "outputs": [
    {
     "data": {
      "text/plain": [
       "['971',\n",
       " '1616',\n",
       " '4633',\n",
       " '8305',\n",
       " '9345',\n",
       " '9729',\n",
       " '10148',\n",
       " '13210',\n",
       " '14604',\n",
       " '14985',\n",
       " '18032',\n",
       " '18287',\n",
       " '18345',\n",
       " '19006',\n",
       " '19727',\n",
       " '21256',\n",
       " '22319',\n",
       " '22915',\n",
       " '24294',\n",
       " '24683',\n",
       " '26084',\n",
       " '33960',\n",
       " '34406',\n",
       " '35647',\n",
       " '37773',\n",
       " '38356',\n",
       " '39414',\n",
       " '40377',\n",
       " '43836',\n",
       " '47314',\n",
       " '49466',\n",
       " '53933',\n",
       " '54929',\n",
       " '61157',\n",
       " '63063',\n",
       " '64257',\n",
       " '65602',\n",
       " '69882',\n",
       " '73281',\n",
       " '73611',\n",
       " '75050',\n",
       " '75243',\n",
       " '83622',\n",
       " '87068',\n",
       " '88179',\n",
       " '88886',\n",
       " '91102',\n",
       " '93105',\n",
       " '97655',\n",
       " '98556',\n",
       " '105720',\n",
       " '113916',\n",
       " '116926',\n",
       " '120342',\n",
       " '121859',\n",
       " '127833',\n",
       " '130970',\n",
       " '131669',\n",
       " '138830',\n",
       " '140246',\n",
       " '144218']"
      ]
     },
     "execution_count": 196,
     "metadata": {},
     "output_type": "execute_result"
    }
   ],
   "source": [
    "df[\"rated\"].values[0]"
   ]
  },
  {
   "cell_type": "code",
   "execution_count": 38,
   "metadata": {},
   "outputs": [],
   "source": [
    "import sys\n",
    "sys.path.insert(0, \"../\")\n",
    "from d2v_recommender import *"
   ]
  },
  {
   "cell_type": "code",
   "execution_count": 71,
   "metadata": {},
   "outputs": [],
   "source": [
    "df[\"array\"] = df[\"rated\"].apply(lambda x: np.array([1,2,3.5,4.7,17,17]))\n",
    "df_ = df.copy()\n",
    "df_ = pd.concat([df_,df_])\n",
    "df_ = df_.groupby(\"idx\")[\"array\"].apply(np.sum)\n",
    "df_ = df.iloc[:5]"
   ]
  },
  {
   "cell_type": "code",
   "execution_count": 72,
   "metadata": {},
   "outputs": [
    {
     "data": {
      "text/html": [
       "<div>\n",
       "<style scoped>\n",
       "    .dataframe tbody tr th:only-of-type {\n",
       "        vertical-align: middle;\n",
       "    }\n",
       "\n",
       "    .dataframe tbody tr th {\n",
       "        vertical-align: top;\n",
       "    }\n",
       "\n",
       "    .dataframe thead th {\n",
       "        text-align: right;\n",
       "    }\n",
       "</style>\n",
       "<table border=\"1\" class=\"dataframe\">\n",
       "  <thead>\n",
       "    <tr style=\"text-align: right;\">\n",
       "      <th></th>\n",
       "      <th>rated</th>\n",
       "      <th>idx</th>\n",
       "      <th>array</th>\n",
       "    </tr>\n",
       "  </thead>\n",
       "  <tbody>\n",
       "    <tr>\n",
       "      <th>0</th>\n",
       "      <td>[971, 1616, 4633, 8305, 9345, 9729, 10148, 132...</td>\n",
       "      <td>a0</td>\n",
       "      <td>[1.0, 2.0, 3.5, 4.7, 17.0, 17.0]</td>\n",
       "    </tr>\n",
       "    <tr>\n",
       "      <th>1</th>\n",
       "      <td>[133, 4672, 5577, 7006, 12038, 12243, 17204, 2...</td>\n",
       "      <td>a1</td>\n",
       "      <td>[1.0, 2.0, 3.5, 4.7, 17.0, 17.0]</td>\n",
       "    </tr>\n",
       "    <tr>\n",
       "      <th>2</th>\n",
       "      <td>[25083, 93891, 105720, 130815]</td>\n",
       "      <td>a2</td>\n",
       "      <td>[1.0, 2.0, 3.5, 4.7, 17.0, 17.0]</td>\n",
       "    </tr>\n",
       "    <tr>\n",
       "      <th>3</th>\n",
       "      <td>[6499, 7964, 11878, 12513, 16357, 18534, 27357...</td>\n",
       "      <td>a3</td>\n",
       "      <td>[1.0, 2.0, 3.5, 4.7, 17.0, 17.0]</td>\n",
       "    </tr>\n",
       "    <tr>\n",
       "      <th>4</th>\n",
       "      <td>[1339, 3015, 3132, 12107, 17811, 18074, 18227,...</td>\n",
       "      <td>a4</td>\n",
       "      <td>[1.0, 2.0, 3.5, 4.7, 17.0, 17.0]</td>\n",
       "    </tr>\n",
       "  </tbody>\n",
       "</table>\n",
       "</div>"
      ],
      "text/plain": [
       "                                               rated idx  \\\n",
       "0  [971, 1616, 4633, 8305, 9345, 9729, 10148, 132...  a0   \n",
       "1  [133, 4672, 5577, 7006, 12038, 12243, 17204, 2...  a1   \n",
       "2                     [25083, 93891, 105720, 130815]  a2   \n",
       "3  [6499, 7964, 11878, 12513, 16357, 18534, 27357...  a3   \n",
       "4  [1339, 3015, 3132, 12107, 17811, 18074, 18227,...  a4   \n",
       "\n",
       "                              array  \n",
       "0  [1.0, 2.0, 3.5, 4.7, 17.0, 17.0]  \n",
       "1  [1.0, 2.0, 3.5, 4.7, 17.0, 17.0]  \n",
       "2  [1.0, 2.0, 3.5, 4.7, 17.0, 17.0]  \n",
       "3  [1.0, 2.0, 3.5, 4.7, 17.0, 17.0]  \n",
       "4  [1.0, 2.0, 3.5, 4.7, 17.0, 17.0]  "
      ]
     },
     "execution_count": 72,
     "metadata": {},
     "output_type": "execute_result"
    }
   ],
   "source": [
    "df_"
   ]
  },
  {
   "cell_type": "code",
   "execution_count": 80,
   "metadata": {},
   "outputs": [
    {
     "data": {
      "text/plain": [
       "array([[list(['971', '1616', '4633', '8305', '9345', '9729', '10148', '13210', '14604', '14985', '18032', '18287', '18345', '19006', '19727', '21256', '22319', '22915', '24294', '24683', '26084', '33960', '34406', '35647', '37773', '38356', '39414', '40377', '43836', '47314', '49466', '53933', '54929', '61157', '63063', '64257', '65602', '69882', '73281', '73611', '75050', '75243', '83622', '87068', '88179', '88886', '91102', '93105', '97655', '98556', '105720', '113916', '116926', '120342', '121859', '127833', '130970', '131669', '138830', '140246', '144218']),\n",
       "        'a0', array([ 1. ,  2. ,  3.5,  4.7, 17. , 17. ])],\n",
       "       [list(['133', '4672', '5577', '7006', '12038', '12243', '17204', '25083', '31847', '35647', '38594', '40377', '43970', '55238', '56889', '57473', '62064', '70118', '78864', '79507', '82946', '85264', '105269', '117149', '119447', '121859', '134835', '136180', '144218', '146508', '151118']),\n",
       "        'a1', array([ 1. ,  2. ,  3.5,  4.7, 17. , 17. ])],\n",
       "       [list(['25083', '93891', '105720', '130815']), 'a2',\n",
       "        array([ 1. ,  2. ,  3.5,  4.7, 17. , 17. ])],\n",
       "       [list(['6499', '7964', '11878', '12513', '16357', '18534', '27357', '28524', '52830', '60679', '65602', '91550', '97582', '98678', '108584', '132695', '136297', '143717', '170935', '172243', '174211']),\n",
       "        'a3', array([ 1. ,  2. ,  3.5,  4.7, 17. , 17. ])],\n",
       "       [list(['1339', '3015', '3132', '12107', '17811', '18074', '18227', '20397', '23486', '24309', '24973', '25083', '26414', '27457', '27960', '30404', '35647', '36134', '59318', '63257', '65415', '72777', '74829', '75807', '85553', '87789', '91366', '93891', '96290', '100825', '100855', '102366', '108725', '113916', '116130', '118275', '122775', '124509', '126173', '127341', '130815', '135266', '145514', '156148', '160671', '162736']),\n",
       "        'a4', array([ 1. ,  2. ,  3.5,  4.7, 17. , 17. ])]], dtype=object)"
      ]
     },
     "execution_count": 80,
     "metadata": {},
     "output_type": "execute_result"
    }
   ],
   "source": [
    "np.save(\"local_test.npy\",arr=df_.values)\n",
    "arr=np.load(\"local_test.npy\", allow_pickle=True)\n",
    "arr"
   ]
  },
  {
   "cell_type": "code",
   "execution_count": 62,
   "metadata": {},
   "outputs": [
    {
     "name": "stderr",
     "output_type": "stream",
     "text": [
      "C:\\Users\\charl\\miniconda3\\envs\\d2v_env\\lib\\site-packages\\ipykernel_launcher.py:6: DeprecationWarning: string or file could not be read to its end due to unmatched data; this will raise a ValueError in the future.\n",
      "  \n"
     ]
    },
    {
     "data": {
      "text/plain": [
       "array([], dtype=float64)"
      ]
     },
     "execution_count": 62,
     "metadata": {},
     "output_type": "execute_result"
    }
   ],
   "source": [
    "def makeArray(text):\n",
    "    return np.fromstring(text,sep=' ')\n",
    "\n",
    "# pd.read_csv(\"../data/dev/models/rater.vectors\").loc[0][1]\n",
    "np.fromstring('[ 1.37519860e-03  2.68070668e-04 -2.25159994e-04 -7.21103221e-04\\n -2.76153674e-04 -1.11587590e-03 -1.06375094e-03 -1.35301123e-03\\n  1.19839667e-03 -6.18751568e-04 -5.82824345e-04 -4.24984319e-04\\n -1.24673557e-03  3.28346723e-05  3.11861404e-05  7.53764325e-05\\n -8.65640031e-05  1.76705187e-04 -6.43181498e-04  9.94793605e-04\\n -1.05464924e-03  1.74464134e-04 -1.09542906e-03 -1.75682851e-03\\n -6.18919148e-05 -3.15550977e-04 -1.92337448e-03  7.73766253e-04\\n -5.85743634e-04 -3.25974106e-04 -9.44319763e-05 -8.16533109e-04\\n -8.34610255e-04 -4.90881270e-04 -1.20761525e-03 -6.04122411e-04\\n -6.59026788e-04 -9.21453466e-04 -3.69178859e-04  5.56204293e-04\\n  5.18006913e-04  4.40018630e-05 -1.86226913e-04  1.63235905e-04\\n  1.18702235e-04  2.79508909e-04 -4.05405444e-04  3.97378521e-04\\n -6.38739089e-04  1.50395106e-04]',\n",
    "             sep=\" \")"
   ]
  },
  {
   "cell_type": "code",
   "execution_count": 2,
   "metadata": {},
   "outputs": [
    {
     "ename": "NameError",
     "evalue": "name 'train_data_path' is not defined",
     "output_type": "error",
     "traceback": [
      "\u001b[1;31m---------------------------------------------------------------------------\u001b[0m",
      "\u001b[1;31mNameError\u001b[0m                                 Traceback (most recent call last)",
      "\u001b[1;32m<ipython-input-2-2437d0d532e7>\u001b[0m in \u001b[0;36m<module>\u001b[1;34m\u001b[0m\n\u001b[0;32m      3\u001b[0m     \u001b[0mdf\u001b[0m\u001b[1;33m[\u001b[0m\u001b[1;34m\"rated\"\u001b[0m\u001b[1;33m]\u001b[0m \u001b[1;33m=\u001b[0m \u001b[0mdf\u001b[0m\u001b[1;33m[\u001b[0m\u001b[1;34m\"rated\"\u001b[0m\u001b[1;33m]\u001b[0m\u001b[1;33m.\u001b[0m\u001b[0mmap\u001b[0m\u001b[1;33m(\u001b[0m\u001b[0mast\u001b[0m\u001b[1;33m.\u001b[0m\u001b[0mliteral_eval\u001b[0m\u001b[1;33m)\u001b[0m\u001b[1;33m\u001b[0m\u001b[1;33m\u001b[0m\u001b[0m\n\u001b[0;32m      4\u001b[0m     \u001b[1;32mreturn\u001b[0m \u001b[0mdf\u001b[0m\u001b[1;33m\u001b[0m\u001b[1;33m\u001b[0m\u001b[0m\n\u001b[1;32m----> 5\u001b[1;33m \u001b[0mdf\u001b[0m \u001b[1;33m=\u001b[0m \u001b[0mload_d2v_formated_data\u001b[0m\u001b[1;33m(\u001b[0m\u001b[0mtrain_data_path\u001b[0m\u001b[1;33m)\u001b[0m\u001b[1;33m\u001b[0m\u001b[1;33m\u001b[0m\u001b[0m\n\u001b[0m",
      "\u001b[1;31mNameError\u001b[0m: name 'train_data_path' is not defined"
     ]
    }
   ],
   "source": [
    "def load_d2v_formated_data(data_path):\n",
    "    df = pd.read_csv(data_path)\n",
    "    df[\"rated\"] = df[\"rated\"].map(ast.literal_eval)\n",
    "    return df\n",
    "df = load_d2v_formated_data(train_data_path)"
   ]
  },
  {
   "cell_type": "code",
   "execution_count": 203,
   "metadata": {},
   "outputs": [
    {
     "data": {
      "text/plain": [
       "0      [971, 35647, 87068, 13210, 9345, 127833, 14024...\n",
       "1      [5577, 12243, 25083, 55238, 7006, 134835, 6206...\n",
       "2                         [25083, 130815, 93891, 105720]\n",
       "3      [27357, 7964, 6499, 136297, 11878, 174211, 132...\n",
       "4      [102366, 3015, 12107, 91366, 135266, 87789, 25...\n",
       "                             ...                        \n",
       "995    [78597, 85704, 33216, 67265, 8196, 13029, 5505...\n",
       "996    [25083, 147908, 91366, 59874, 115192, 12795, 7...\n",
       "997          [102751, 3446, 12845, 53583, 71636, 112075]\n",
       "998    [115129, 135266, 12227, 24734, 163591, 26193, ...\n",
       "999    [68140, 105522, 115872, 2111, 70720, 45418, 31...\n",
       "Name: rated, Length: 1000, dtype: object"
      ]
     },
     "execution_count": 203,
     "metadata": {},
     "output_type": "execute_result"
    }
   ],
   "source": [
    "def list_shuffler(x):\n",
    "    np.random.shuffle(x)\n",
    "    return x\n",
    "df[\"rated\"].apply(list_shuffler)"
   ]
  },
  {
   "cell_type": "code",
   "execution_count": 204,
   "metadata": {},
   "outputs": [
    {
     "data": {
      "text/plain": [
       "0      [971, 35647, 87068, 13210, 9345, 127833, 14024...\n",
       "1      [5577, 12243, 25083, 55238, 7006, 134835, 6206...\n",
       "2                         [25083, 130815, 93891, 105720]\n",
       "3      [27357, 7964, 6499, 136297, 11878, 174211, 132...\n",
       "4      [102366, 3015, 12107, 91366, 135266, 87789, 25...\n",
       "                             ...                        \n",
       "995    [78597, 85704, 33216, 67265, 8196, 13029, 5505...\n",
       "996    [25083, 147908, 91366, 59874, 115192, 12795, 7...\n",
       "997          [102751, 3446, 12845, 53583, 71636, 112075]\n",
       "998    [115129, 135266, 12227, 24734, 163591, 26193, ...\n",
       "999    [68140, 105522, 115872, 2111, 70720, 45418, 31...\n",
       "Name: rated, Length: 1000, dtype: object"
      ]
     },
     "execution_count": 204,
     "metadata": {},
     "output_type": "execute_result"
    }
   ],
   "source": [
    "df[\"rated\"]"
   ]
  }
 ],
 "metadata": {
  "kernelspec": {
   "display_name": "Python 3",
   "language": "python",
   "name": "python3"
  },
  "language_info": {
   "codemirror_mode": {
    "name": "ipython",
    "version": 3
   },
   "file_extension": ".py",
   "mimetype": "text/x-python",
   "name": "python",
   "nbconvert_exporter": "python",
   "pygments_lexer": "ipython3",
   "version": "3.7.9"
  }
 },
 "nbformat": 4,
 "nbformat_minor": 4
}
