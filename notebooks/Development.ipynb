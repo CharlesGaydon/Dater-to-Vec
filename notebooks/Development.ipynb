{
 "cells": [
  {
   "cell_type": "code",
   "execution_count": 1,
   "metadata": {},
   "outputs": [],
   "source": [
    "import pandas as pd\n",
    "import numpy as np\n",
    "# import pickle\n",
    "\n",
    "import sys\n",
    "sys.path.insert(0, \"../src\")\n",
    "sys.path.insert(0, \"../\")\n",
    "from d2v_recommender import *\n",
    "from config import config\n",
    "from src.processing import load_d2v_formated_data\n",
    "from src.d2v_recommender import D2V_Recommender\n"
   ]
  },
  {
   "cell_type": "code",
   "execution_count": 2,
   "metadata": {},
   "outputs": [
    {
     "output_type": "stream",
     "name": "stderr",
     "text": [
      "WARNING:gensim.models.base_any2vec:consider setting layer size to a multiple of 4 for greater performance\n",
      "INFO:gensim.utils:loading Word2VecKeyedVectors object from /root/notebooks/../data/dev/models/rated.vectors\n",
      "INFO:gensim.utils:setting ignored attribute vectors_norm to None\n",
      "INFO:gensim.utils:loaded /root/notebooks/../data/dev/models/rated.vectors\n"
     ]
    }
   ],
   "source": [
    "recommender = D2V_Recommender(**config.d2v_params)\n",
    "recommender.load_rated_vec(config.rated_embeddings_path)\n",
    "_ = recommender.load_rater_vec(config.rater_embeddings_path)"
   ]
  },
  {
   "cell_type": "code",
   "execution_count": 3,
   "metadata": {},
   "outputs": [
    {
     "output_type": "stream",
     "name": "stdout",
     "text": [
      "(1000, 4)\n"
     ]
    },
    {
     "output_type": "execute_result",
     "data": {
      "text/plain": [
       "   rater   rated  r    m\n",
       "0    393  116083  8  0.0\n",
       "1    393    5962  9  0.0\n",
       "2    393   24614  1  0.0\n",
       "3    393  104576  5  0.0\n",
       "4    393  181022  7  0.0"
      ],
      "text/html": "<div>\n<style scoped>\n    .dataframe tbody tr th:only-of-type {\n        vertical-align: middle;\n    }\n\n    .dataframe tbody tr th {\n        vertical-align: top;\n    }\n\n    .dataframe thead th {\n        text-align: right;\n    }\n</style>\n<table border=\"1\" class=\"dataframe\">\n  <thead>\n    <tr style=\"text-align: right;\">\n      <th></th>\n      <th>rater</th>\n      <th>rated</th>\n      <th>r</th>\n      <th>m</th>\n    </tr>\n  </thead>\n  <tbody>\n    <tr>\n      <th>0</th>\n      <td>393</td>\n      <td>116083</td>\n      <td>8</td>\n      <td>0.0</td>\n    </tr>\n    <tr>\n      <th>1</th>\n      <td>393</td>\n      <td>5962</td>\n      <td>9</td>\n      <td>0.0</td>\n    </tr>\n    <tr>\n      <th>2</th>\n      <td>393</td>\n      <td>24614</td>\n      <td>1</td>\n      <td>0.0</td>\n    </tr>\n    <tr>\n      <th>3</th>\n      <td>393</td>\n      <td>104576</td>\n      <td>5</td>\n      <td>0.0</td>\n    </tr>\n    <tr>\n      <th>4</th>\n      <td>393</td>\n      <td>181022</td>\n      <td>7</td>\n      <td>0.0</td>\n    </tr>\n  </tbody>\n</table>\n</div>"
     },
     "metadata": {},
     "execution_count": 3
    }
   ],
   "source": [
    "train_ = pd.read_csv(config.train_data_path, nrows=1000)\n",
    "test_ = pd.read_csv(config.test_data_path, nrows=1000)\n",
    "print(train_.shape)\n",
    "train_.head() "
   ]
  },
  {
   "cell_type": "code",
   "execution_count": 4,
   "metadata": {},
   "outputs": [
    {
     "output_type": "stream",
     "name": "stderr",
     "text": [
      " 46%|████▌     | 922/2000 [00:00<00:00, 9214.21it/s]concatenated\n",
      "Train N=1000 - Test N=1000\n",
      "100%|██████████| 2000/2000 [00:00<00:00, 9552.43it/s]\n",
      "100%|██████████| 2000/2000 [00:00<00:00, 172480.89it/s]\n"
     ]
    }
   ],
   "source": [
    "\n",
    "train_[\"set\"] = \"train\"\n",
    "test_[\"set\"] = \"test\"\n",
    "data = pd.concat([train_, test_])  # we will ignore the index\n",
    "print(\"concatenated\")\n",
    "\n",
    "print(f\"Train N={len(train_)} - Test N={len(test_)}\")\n",
    "assert len(data) == (len(train_) + len(test_))\n",
    "a = data[\"rater\"].progress_apply(recommender.get_single_rater_vec)\n",
    "b = data[\"rated\"].progress_apply(recommender.get_single_rated_vec)\n",
    "# TODO: could be even further vectorized\n",
    "data[\"vec_delta\"] = a - b  # piecewise array operations"
   ]
  },
  {
   "cell_type": "code",
   "execution_count": 12,
   "metadata": {},
   "outputs": [
    {
     "output_type": "execute_result",
     "data": {
      "text/plain": [
       "0                                                   None\n",
       "1      [-0.025143957, 0.038365867, 0.08811399, 0.0415...\n",
       "2                                                   None\n",
       "3      [-0.02080357, 0.04270625, 0.09245438, 0.045902...\n",
       "4                                                   None\n",
       "                             ...                        \n",
       "995                                                 None\n",
       "996    [-0.0050131753, 0.017379366, 0.034791254, 0.01...\n",
       "997    [-0.010202071, 0.0121904705, 0.02960236, 0.011...\n",
       "998    [-0.008433124, 0.013959417, 0.031371307, 0.013...\n",
       "999    [-0.015170673, 0.0072218687, 0.024633758, 0.00...\n",
       "Length: 1000, dtype: object"
      ]
     },
     "metadata": {},
     "execution_count": 12
    }
   ],
   "source": [
    "def get_vec_diff(rater_rated):\n",
    "    rater, rated = rater_rated\n",
    "    vec1 = recommender.get_single_rater_vec(rater)\n",
    "    vec2 = recommender.get_single_rated_vec(rated)\n",
    "    if vec2 is not None:\n",
    "        return (vec1 - vec2)[0]\n",
    "    else:\n",
    "        return None\n",
    "\n",
    "train_[[\"rater\",\"rated\"]].apply(lambda x: get_vec_diff(x), axis=1)"
   ]
  },
  {
   "cell_type": "code",
   "execution_count": null,
   "metadata": {},
   "outputs": [],
   "source": []
  }
 ],
 "metadata": {
  "kernelspec": {
   "display_name": "Python (d2v_env)",
   "language": "python",
   "name": "d2v_env"
  },
  "language_info": {
   "codemirror_mode": {
    "name": "ipython",
    "version": 3
   },
   "file_extension": ".py",
   "mimetype": "text/x-python",
   "name": "python",
   "nbconvert_exporter": "python",
   "pygments_lexer": "ipython3",
   "version": "3.7.9-final"
  }
 },
 "nbformat": 4,
 "nbformat_minor": 4
}