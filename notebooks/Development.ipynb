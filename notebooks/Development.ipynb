{
 "cells": [
  {
   "cell_type": "code",
   "execution_count": 1,
   "metadata": {},
   "outputs": [],
   "source": [
    "import pandas as pd\n",
    "import numpy as np\n",
    "import pickle\n",
    "\n",
    "import sys\n",
    "sys.path.insert(0, \"../src\")\n",
    "sys.path.insert(0, \"../\")\n",
    "from d2v_recommender import *\n",
    "from config import config\n",
    "from src.processing import load_d2v_formated_data\n"
   ]
  },
  {
   "cell_type": "code",
   "execution_count": 2,
   "metadata": {},
   "outputs": [
    {
     "name": "stderr",
     "output_type": "stream",
     "text": [
      "100%|███████████████████████████████████████████████████████████████████████████████████████████████████████████████████████████████████████████████████████| 2/2 [00:00<00:00, 94.28it/s]\n"
     ]
    },
    {
     "data": {
      "text/html": [
       "<div>\n",
       "<style scoped>\n",
       "    .dataframe tbody tr th:only-of-type {\n",
       "        vertical-align: middle;\n",
       "    }\n",
       "\n",
       "    .dataframe tbody tr th {\n",
       "        vertical-align: top;\n",
       "    }\n",
       "\n",
       "    .dataframe thead th {\n",
       "        text-align: right;\n",
       "    }\n",
       "</style>\n",
       "<table border=\"1\" class=\"dataframe\">\n",
       "  <thead>\n",
       "    <tr style=\"text-align: right;\">\n",
       "      <th></th>\n",
       "      <th>0</th>\n",
       "    </tr>\n",
       "  </thead>\n",
       "  <tbody>\n",
       "    <tr>\n",
       "      <th>1</th>\n",
       "      <td>[0.00040496275, -0.0006818027, -0.00033978047,...</td>\n",
       "    </tr>\n",
       "    <tr>\n",
       "      <th>2</th>\n",
       "      <td>[0.00024747473, 0.0005912651, -0.0017073135, 0...</td>\n",
       "    </tr>\n",
       "    <tr>\n",
       "      <th>3</th>\n",
       "      <td>[0.0009146712, 0.002318329, -9.348209e-06, 0.0...</td>\n",
       "    </tr>\n",
       "    <tr>\n",
       "      <th>4</th>\n",
       "      <td>[0.0033158925, -0.0013413565, 0.0013407932, -0...</td>\n",
       "    </tr>\n",
       "    <tr>\n",
       "      <th>5</th>\n",
       "      <td>[-0.00014638172, 0.0007400165, -0.0003619319, ...</td>\n",
       "    </tr>\n",
       "    <tr>\n",
       "      <th>...</th>\n",
       "      <td>...</td>\n",
       "    </tr>\n",
       "    <tr>\n",
       "      <th>96</th>\n",
       "      <td>[-0.0006265093, 0.002062257, -0.0006437324, 0....</td>\n",
       "    </tr>\n",
       "    <tr>\n",
       "      <th>97</th>\n",
       "      <td>[0.0004198415, -0.0040085176, -0.0012637483, -...</td>\n",
       "    </tr>\n",
       "    <tr>\n",
       "      <th>98</th>\n",
       "      <td>[0.00032986057, -0.00022659083, -0.0009847261,...</td>\n",
       "    </tr>\n",
       "    <tr>\n",
       "      <th>99</th>\n",
       "      <td>[-0.0003149905, 0.0009315111, 0.00068687455, -...</td>\n",
       "    </tr>\n",
       "    <tr>\n",
       "      <th>100</th>\n",
       "      <td>[-0.0013630413, -0.0013731769, -0.00043806728,...</td>\n",
       "    </tr>\n",
       "  </tbody>\n",
       "</table>\n",
       "<p>100 rows × 1 columns</p>\n",
       "</div>"
      ],
      "text/plain": [
       "                                                     0\n",
       "1    [0.00040496275, -0.0006818027, -0.00033978047,...\n",
       "2    [0.00024747473, 0.0005912651, -0.0017073135, 0...\n",
       "3    [0.0009146712, 0.002318329, -9.348209e-06, 0.0...\n",
       "4    [0.0033158925, -0.0013413565, 0.0013407932, -0...\n",
       "5    [-0.00014638172, 0.0007400165, -0.0003619319, ...\n",
       "..                                                 ...\n",
       "96   [-0.0006265093, 0.002062257, -0.0006437324, 0....\n",
       "97   [0.0004198415, -0.0040085176, -0.0012637483, -...\n",
       "98   [0.00032986057, -0.00022659083, -0.0009847261,...\n",
       "99   [-0.0003149905, 0.0009315111, 0.00068687455, -...\n",
       "100  [-0.0013630413, -0.0013731769, -0.00043806728,...\n",
       "\n",
       "[100 rows x 1 columns]"
      ]
     },
     "execution_count": 2,
     "metadata": {},
     "output_type": "execute_result"
    }
   ],
   "source": [
    "recommender = D2V_Recommender(**config.d2v_params)\n",
    "\n",
    "train = pd.read_csv(config.train_data_path)\n",
    "test = pd.read_csv(config.test_data_path)\n",
    "d2v_train = load_d2v_formated_data(config.d2v_train_data_path)\n",
    "\n",
    "# # learn embeddings for rated users\n",
    "recommender.fit_rated_embeddings(\n",
    "    d2v_train, save_path=config.rated_embeddings_path\n",
    ")\n",
    "\n",
    "recommender.load_rated_vec(config.rated_embeddings_path)\n",
    "\n",
    "# learn embeddings for raters as the mean of embeddings of those they matched with\n",
    "recommender.fit_rater_embeddings(train, save_path=config.rater_embeddings_path)\n",
    "recommender.load_rater_vec(config.rater_embeddings_path)"
   ]
  },
  {
   "cell_type": "code",
   "execution_count": 8,
   "metadata": {},
   "outputs": [
    {
     "name": "stdout",
     "output_type": "stream",
     "text": [
      "Train N=10905 - Test N=2779\n",
      "Train data N=13684\n",
      "After skipping unseen rated users: N=3455\n"
     ]
    }
   ],
   "source": [
    "recommender.prepare_X_y_dataset(train, test, data_dict_path=config.data_dict_path)"
   ]
  },
  {
   "cell_type": "code",
   "execution_count": 4,
   "metadata": {},
   "outputs": [
    {
     "name": "stdout",
     "output_type": "stream",
     "text": [
      "Train N=10905 - Test N=2779\n"
     ]
    }
   ],
   "source": [
    "train_ = train.copy()\n",
    "test_ = test.copy()\n",
    "train_[\"set\"] = \"train\"\n",
    "test_[\"set\"] = \"test\"\n",
    "data = pd.concat([train_, test_])  # we will ignore the index\n",
    "\n",
    "print(f\"Train N={len(train_)} - Test N={len(test_)}\")\n",
    "assert len(data) == (len(train_) + len(test_))\n",
    "\n",
    "# TODO: could be even further vectorized\n",
    "data[\"rater\"] = data[\"rater\"].apply(recommender.get_single_rater_vec)\n",
    "data[\"rated\"] = data[\"rated\"].apply(recommender.get_single_rated_vec)\n",
    "data[\"vec_delta\"] = data[\"rater\"] - data[\"rated\"]  # piecewise array operations\n",
    "data = data[[\"vec_delta\", \"m\", \"set\"]]"
   ]
  },
  {
   "cell_type": "code",
   "execution_count": 7,
   "metadata": {},
   "outputs": [
    {
     "data": {
      "text/html": [
       "<div>\n",
       "<style scoped>\n",
       "    .dataframe tbody tr th:only-of-type {\n",
       "        vertical-align: middle;\n",
       "    }\n",
       "\n",
       "    .dataframe tbody tr th {\n",
       "        vertical-align: top;\n",
       "    }\n",
       "\n",
       "    .dataframe thead th {\n",
       "        text-align: right;\n",
       "    }\n",
       "</style>\n",
       "<table border=\"1\" class=\"dataframe\">\n",
       "  <thead>\n",
       "    <tr style=\"text-align: right;\">\n",
       "      <th></th>\n",
       "      <th>vec_delta</th>\n",
       "      <th>m</th>\n",
       "      <th>set</th>\n",
       "    </tr>\n",
       "  </thead>\n",
       "  <tbody>\n",
       "    <tr>\n",
       "      <th>0</th>\n",
       "      <td>[-0.0032073178, -0.0050240033, 0.0013888634, -...</td>\n",
       "      <td>0.0</td>\n",
       "      <td>train</td>\n",
       "    </tr>\n",
       "    <tr>\n",
       "      <th>1</th>\n",
       "      <td>[0.00798453, -0.0097543765, -0.005961188, -0.0...</td>\n",
       "      <td>0.0</td>\n",
       "      <td>train</td>\n",
       "    </tr>\n",
       "    <tr>\n",
       "      <th>2</th>\n",
       "      <td>[0.008539897, -0.0018408545, -0.0044120094, -0...</td>\n",
       "      <td>1.0</td>\n",
       "      <td>train</td>\n",
       "    </tr>\n",
       "    <tr>\n",
       "      <th>3</th>\n",
       "      <td>[-0.0009370241, -0.0014134569, -0.0067626326, ...</td>\n",
       "      <td>0.0</td>\n",
       "      <td>train</td>\n",
       "    </tr>\n",
       "    <tr>\n",
       "      <th>4</th>\n",
       "      <td>[0.0044528255, -0.00509703, -0.00012638792, -0...</td>\n",
       "      <td>1.0</td>\n",
       "      <td>train</td>\n",
       "    </tr>\n",
       "    <tr>\n",
       "      <th>...</th>\n",
       "      <td>...</td>\n",
       "      <td>...</td>\n",
       "      <td>...</td>\n",
       "    </tr>\n",
       "    <tr>\n",
       "      <th>2511</th>\n",
       "      <td>[0.010319347, -0.0056337304, 0.0026717484, 0.0...</td>\n",
       "      <td>0.0</td>\n",
       "      <td>test</td>\n",
       "    </tr>\n",
       "    <tr>\n",
       "      <th>2526</th>\n",
       "      <td>[0.0022081328, -0.008494749, 0.009288474, -0.0...</td>\n",
       "      <td>1.0</td>\n",
       "      <td>test</td>\n",
       "    </tr>\n",
       "    <tr>\n",
       "      <th>2562</th>\n",
       "      <td>[-0.0021240958, -0.009882071, 0.0007747633, -0...</td>\n",
       "      <td>1.0</td>\n",
       "      <td>test</td>\n",
       "    </tr>\n",
       "    <tr>\n",
       "      <th>2594</th>\n",
       "      <td>[0.0016053898, -0.008498546, -0.010645248, 0.0...</td>\n",
       "      <td>1.0</td>\n",
       "      <td>test</td>\n",
       "    </tr>\n",
       "    <tr>\n",
       "      <th>2763</th>\n",
       "      <td>[0.00044442934, -0.006615752, 0.009550768, -0....</td>\n",
       "      <td>1.0</td>\n",
       "      <td>test</td>\n",
       "    </tr>\n",
       "  </tbody>\n",
       "</table>\n",
       "<p>3455 rows × 3 columns</p>\n",
       "</div>"
      ],
      "text/plain": [
       "                                              vec_delta    m    set\n",
       "0     [-0.0032073178, -0.0050240033, 0.0013888634, -...  0.0  train\n",
       "1     [0.00798453, -0.0097543765, -0.005961188, -0.0...  0.0  train\n",
       "2     [0.008539897, -0.0018408545, -0.0044120094, -0...  1.0  train\n",
       "3     [-0.0009370241, -0.0014134569, -0.0067626326, ...  0.0  train\n",
       "4     [0.0044528255, -0.00509703, -0.00012638792, -0...  1.0  train\n",
       "...                                                 ...  ...    ...\n",
       "2511  [0.010319347, -0.0056337304, 0.0026717484, 0.0...  0.0   test\n",
       "2526  [0.0022081328, -0.008494749, 0.009288474, -0.0...  1.0   test\n",
       "2562  [-0.0021240958, -0.009882071, 0.0007747633, -0...  1.0   test\n",
       "2594  [0.0016053898, -0.008498546, -0.010645248, 0.0...  1.0   test\n",
       "2763  [0.00044442934, -0.006615752, 0.009550768, -0....  1.0   test\n",
       "\n",
       "[3455 rows x 3 columns]"
      ]
     },
     "execution_count": 7,
     "metadata": {},
     "output_type": "execute_result"
    }
   ],
   "source": [
    "data.dropna()"
   ]
  }
 ],
 "metadata": {
  "kernelspec": {
   "display_name": "Python 3",
   "language": "python",
   "name": "python3"
  },
  "language_info": {
   "codemirror_mode": {
    "name": "ipython",
    "version": 3
   },
   "file_extension": ".py",
   "mimetype": "text/x-python",
   "name": "python",
   "nbconvert_exporter": "python",
   "pygments_lexer": "ipython3",
   "version": "3.7.9"
  }
 },
 "nbformat": 4,
 "nbformat_minor": 4
}
