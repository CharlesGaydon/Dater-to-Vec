{
 "cells": [
  {
   "cell_type": "code",
   "execution_count": 3,
   "metadata": {},
   "outputs": [],
   "source": [
    "import pandas as pd\n",
    "import numpy as np\n",
    "import pickle\n",
    "\n",
    "\n",
    "import sys\n",
    "sys.path.insert(0, \"../src\")\n",
    "sys.path.insert(0, \"../\")\n",
    "import shutil\n",
    "from d2v_recommender import *\n",
    "from config import config\n",
    "\n",
    "from autosklearn.classification import AutoSklearnClassifier\n",
    "from autosklearn.metrics import roc_auc\n",
    "import lightgbm\n",
    "import sklearn"
   ]
  },
  {
   "cell_type": "code",
   "execution_count": null,
   "metadata": {},
   "outputs": [],
   "source": [
    "d2v = D2V_Recommender()\n",
    "data_dict = d2v.load_data_dict(config.data_dict_path)\n",
    "print(data_dict[\"X_train\"].shape, data_dict[\"y_train\"].shape, data_dict[\"X_test\"].shape, data_dict[\"y_test\"].shape)\n",
    "X_train = data_dict[\"X_train\"]\n",
    "X_test = data_dict[\"X_test\"]\n",
    "y_train = data_dict[\"y_train\"]\n",
    "y_test = data_dict[\"y_test\"]"
   ]
  },
  {
   "cell_type": "code",
   "execution_count": null,
   "metadata": {},
   "outputs": [],
   "source": [
    "train_data = lightgbm.Dataset(X_train, label=y_train)\n",
    "test_data = lightgbm.Dataset(X_test, label=y_test)"
   ]
  },
  {
   "cell_type": "code",
   "execution_count": null,
   "metadata": {},
   "outputs": [],
   "source": [
    "parameters = {\n",
    "    'application': 'binary',\n",
    "    'objective': 'binary',\n",
    "    'metric': 'auc',\n",
    "    'is_unbalance': 'true',\n",
    "    'boosting': 'gbdt',\n",
    "    'num_leaves': 31,\n",
    "    'feature_fraction': 0.5,\n",
    "    'bagging_fraction': 0.5,\n",
    "    'bagging_freq': 20,\n",
    "    'learning_rate': 0.05,\n",
    "    'verbose': 1\n",
    "}\n",
    "\n",
    "model = lightgbm.train(parameters,\n",
    "                       train_data,\n",
    "                       valid_sets=test_data,\n",
    "                       num_boost_round=5000,\n",
    "                       early_stopping_rounds=100)"
   ]
  },
  {
   "cell_type": "code",
   "execution_count": null,
   "metadata": {},
   "outputs": [],
   "source": [
    "# # Auto-ML\n",
    "\n",
    "# shutil.rmtree(config.output_automl_path, ignore_errors=True)\n",
    "# shutil.rmtree(config.tmp_automl_path, ignore_errors=True)\n",
    "# automl = AutoSklearnClassifier(\n",
    "#     time_left_for_this_task=180,\n",
    "#     per_run_time_limit=60,\n",
    "#     tmp_folder=config.tmp_automl_path,  # automated\n",
    "#     output_folder=config.output_automl_path,\n",
    "#     # metric=roc_auc\n",
    "# )\n",
    "\n",
    "# automl.fit(X_train, \n",
    "#             y_train,\n",
    "#             dataset_name='d2v_small')\n",
    "\n",
    "# ############################################################################\n",
    "# # Print the final ensemble constructed by auto-sklearn\n",
    "# # ====================================================\n",
    "\n",
    "# print(automl.show_models())"
   ]
  },
  {
   "cell_type": "code",
   "execution_count": null,
   "metadata": {},
   "outputs": [],
   "source": [
    "model.score(X_test, y_test)\n",
    "# automl.cv_results_"
   ]
  },
  {
   "cell_type": "code",
   "execution_count": null,
   "metadata": {},
   "outputs": [],
   "source": [
    "from sklearn.metrics import *\n",
    "\n",
    "###########################################################################\n",
    "# Get the Score of the final ensemble\n",
    "# ===================================\n",
    "\n",
    "predictions = model.predict(X_test)\n",
    "proba = model.predict_proba(X_test)\n",
    "\n",
    "print(\"Accuracy score:\", accuracy_score(y_test, predictions))\n",
    "print(\"MCC:\", matthews_corrcoef(y_test, predictions))"
   ]
  },
  {
   "cell_type": "code",
   "execution_count": null,
   "metadata": {},
   "outputs": [],
   "source": [
    "1 - y_test.sum()/y_test.shape"
   ]
  },
  {
   "cell_type": "code",
   "execution_count": null,
   "metadata": {},
   "outputs": [],
   "source": [
    "# Add to the recommender\n",
    "recommender.set_classifier(model)\n",
    "# predict\n",
    "recommender.predict(1,133)"
   ]
  },
  {
   "cell_type": "code",
   "execution_count": null,
   "metadata": {},
   "outputs": [],
   "source": [
    "# # TODO\n",
    "# def automl_binary_classifier(x):\n",
    "#     return automl.predict_proba(x)[0][0]\n",
    "# sklearn.metrics.plot_roc_curve(automl_binary_classifier, X_test, y_test)"
   ]
  },
  {
   "cell_type": "code",
   "execution_count": null,
   "metadata": {},
   "outputs": [],
   "source": [
    "cm = confusion_matrix(y_test, predictions)\n",
    "disp = ConfusionMatrixDisplay(confusion_matrix=cm,\n",
    "                              display_labels=[\"Ignored\",\"Matched\"])\n",
    "disp.plot()"
   ]
  },
  {
   "cell_type": "code",
   "execution_count": null,
   "metadata": {},
   "outputs": [],
   "source": []
  }
 ],
 "metadata": {
  "kernelspec": {
   "display_name": "Python (d2v_env)",
   "language": "python",
   "name": "d2v_env"
  },
  "language_info": {
   "codemirror_mode": {
    "name": "ipython",
    "version": 3
   },
   "file_extension": ".py",
   "mimetype": "text/x-python",
   "name": "python",
   "nbconvert_exporter": "python",
   "pygments_lexer": "ipython3",
   "version": "3.7.9-final"
  }
 },
 "nbformat": 4,
 "nbformat_minor": 4
}
