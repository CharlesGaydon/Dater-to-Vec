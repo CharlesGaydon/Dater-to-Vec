{
 "cells": [
  {
   "cell_type": "code",
   "execution_count": 1,
   "metadata": {},
   "outputs": [],
   "source": [
    "import pandas as pd\n",
    "import numpy as np\n",
    "import pickle\n",
    "\n",
    "import sys\n",
    "sys.path.insert(0, \"../src\")\n",
    "sys.path.insert(0, \"../\")\n",
    "import shutil\n",
    "from d2v_recommender import *\n",
    "from config import config\n",
    "\n",
    "from autosklearn.classification import AutoSklearnClassifier\n",
    "from autosklearn.metrics import roc_auc\n",
    "import lightgbm\n",
    "import sklearn"
   ]
  },
  {
   "cell_type": "code",
   "execution_count": 2,
   "metadata": {},
   "outputs": [
    {
     "output_type": "stream",
     "name": "stdout",
     "text": [
      "(181277,) (181277,) (1640385,) (1640385,)\n"
     ]
    }
   ],
   "source": [
    "d2v = D2V_Recommender()\n",
    "data_dict = d2v.load_data_dict(config.data_dict_path)\n",
    "X_train = data_dict[\"X_train\"].reshape((-1,1))\n",
    "X_test = data_dict[\"X_test\"].reshape((-1,1))\n",
    "y_train = data_dict[\"y_train\"]\n",
    "y_test = data_dict[\"y_test\"]\n",
    "\n",
    "print(data_dict[\"X_train\"].shape, data_dict[\"y_train\"].shape, data_dict[\"X_test\"].shape, data_dict[\"y_test\"].shape)"
   ]
  },
  {
   "cell_type": "code",
   "execution_count": 4,
   "metadata": {},
   "outputs": [],
   "source": [
    "pure_train_size = int(0.1 * len(X_train)) \n",
    "train_data = lightgbm.Dataset(X_train[:pure_train_size, :], label=y_train[:pure_train_size])\n",
    "val_data = lightgbm.Dataset(X_train[pure_train_size:, :], label=y_train[pure_train_size:])"
   ]
  },
  {
   "cell_type": "code",
   "execution_count": 5,
   "metadata": {
    "tags": []
   },
   "outputs": [
    {
     "output_type": "stream",
     "name": "stdout",
     "text": [
      "[LightGBM] [Warning] objective is set=binary, application=binary will be ignored. Current value: objective=binary\n",
      "[LightGBM] [Warning] objective is set=binary, application=binary will be ignored. Current value: objective=binary\n",
      "[LightGBM] [Info] Number of positive: 4370, number of negative: 13757\n",
      "[LightGBM] [Warning] Auto-choosing row-wise multi-threading, the overhead of testing was 0.001871 seconds.\n",
      "You can set `force_row_wise=true` to remove the overhead.\n",
      "And if memory is not enough, you can set `force_col_wise=true`.\n",
      "[LightGBM] [Info] Total Bins 255\n",
      "[LightGBM] [Info] Number of data points in the train set: 18127, number of used features: 1\n",
      "[LightGBM] [Warning] objective is set=binary, application=binary will be ignored. Current value: objective=binary\n",
      "[LightGBM] [Info] [binary:BoostFromScore]: pavg=0.241077 -> initscore=-1.146785\n",
      "[LightGBM] [Info] Start training from score -1.146785\n",
      "[1]\tvalid_0's auc: 0.526312\n",
      "Training until validation scores don't improve for 100 rounds\n",
      "[2]\tvalid_0's auc: 0.525044\n",
      "[3]\tvalid_0's auc: 0.525032\n",
      "[4]\tvalid_0's auc: 0.524908\n",
      "[5]\tvalid_0's auc: 0.525292\n",
      "[6]\tvalid_0's auc: 0.526118\n",
      "[7]\tvalid_0's auc: 0.525213\n",
      "[8]\tvalid_0's auc: 0.525407\n",
      "[9]\tvalid_0's auc: 0.525768\n",
      "[10]\tvalid_0's auc: 0.525693\n",
      "[11]\tvalid_0's auc: 0.525276\n",
      "[12]\tvalid_0's auc: 0.525804\n",
      "[13]\tvalid_0's auc: 0.525552\n",
      "[14]\tvalid_0's auc: 0.525107\n",
      "[15]\tvalid_0's auc: 0.524617\n",
      "[16]\tvalid_0's auc: 0.525322\n",
      "[17]\tvalid_0's auc: 0.525015\n",
      "[18]\tvalid_0's auc: 0.525588\n",
      "[19]\tvalid_0's auc: 0.525663\n",
      "[20]\tvalid_0's auc: 0.525443\n",
      "[21]\tvalid_0's auc: 0.525658\n",
      "[22]\tvalid_0's auc: 0.525738\n",
      "[23]\tvalid_0's auc: 0.525481\n",
      "[24]\tvalid_0's auc: 0.525508\n",
      "[25]\tvalid_0's auc: 0.525719\n",
      "[26]\tvalid_0's auc: 0.525605\n",
      "[27]\tvalid_0's auc: 0.525558\n",
      "[28]\tvalid_0's auc: 0.525311\n",
      "[29]\tvalid_0's auc: 0.525303\n",
      "[30]\tvalid_0's auc: 0.525407\n",
      "[31]\tvalid_0's auc: 0.525298\n",
      "[32]\tvalid_0's auc: 0.525142\n",
      "[33]\tvalid_0's auc: 0.524889\n",
      "[34]\tvalid_0's auc: 0.524871\n",
      "[35]\tvalid_0's auc: 0.524818\n",
      "[36]\tvalid_0's auc: 0.524752\n",
      "[37]\tvalid_0's auc: 0.524707\n",
      "[38]\tvalid_0's auc: 0.524623\n",
      "[39]\tvalid_0's auc: 0.524453\n",
      "[40]\tvalid_0's auc: 0.524283\n",
      "[41]\tvalid_0's auc: 0.524435\n",
      "[42]\tvalid_0's auc: 0.524506\n",
      "[43]\tvalid_0's auc: 0.52453\n",
      "[44]\tvalid_0's auc: 0.524644\n",
      "[45]\tvalid_0's auc: 0.524506\n",
      "[46]\tvalid_0's auc: 0.524548\n",
      "[47]\tvalid_0's auc: 0.52441\n",
      "[48]\tvalid_0's auc: 0.52453\n",
      "[49]\tvalid_0's auc: 0.524602\n",
      "[50]\tvalid_0's auc: 0.524618\n",
      "[51]\tvalid_0's auc: 0.524656\n",
      "[52]\tvalid_0's auc: 0.524608\n",
      "[53]\tvalid_0's auc: 0.524608\n",
      "[54]\tvalid_0's auc: 0.524601\n",
      "[55]\tvalid_0's auc: 0.524671\n",
      "[56]\tvalid_0's auc: 0.524506\n",
      "[57]\tvalid_0's auc: 0.524597\n",
      "[58]\tvalid_0's auc: 0.524523\n",
      "[59]\tvalid_0's auc: 0.52445\n",
      "[60]\tvalid_0's auc: 0.524384\n",
      "[61]\tvalid_0's auc: 0.524499\n",
      "[62]\tvalid_0's auc: 0.52445\n",
      "[63]\tvalid_0's auc: 0.524469\n",
      "[64]\tvalid_0's auc: 0.524686\n",
      "[65]\tvalid_0's auc: 0.524861\n",
      "[66]\tvalid_0's auc: 0.52491\n",
      "[67]\tvalid_0's auc: 0.524953\n",
      "[68]\tvalid_0's auc: 0.525007\n",
      "[69]\tvalid_0's auc: 0.525107\n",
      "[70]\tvalid_0's auc: 0.525083\n",
      "[71]\tvalid_0's auc: 0.525017\n",
      "[72]\tvalid_0's auc: 0.52499\n",
      "[73]\tvalid_0's auc: 0.524914\n",
      "[74]\tvalid_0's auc: 0.524923\n",
      "[75]\tvalid_0's auc: 0.524886\n",
      "[76]\tvalid_0's auc: 0.524868\n",
      "[77]\tvalid_0's auc: 0.524721\n",
      "[78]\tvalid_0's auc: 0.524589\n",
      "[79]\tvalid_0's auc: 0.524589\n",
      "[80]\tvalid_0's auc: 0.524548\n",
      "[81]\tvalid_0's auc: 0.524212\n",
      "[82]\tvalid_0's auc: 0.524204\n",
      "[83]\tvalid_0's auc: 0.52409\n",
      "[84]\tvalid_0's auc: 0.523996\n",
      "[85]\tvalid_0's auc: 0.523867\n",
      "[86]\tvalid_0's auc: 0.523682\n",
      "[87]\tvalid_0's auc: 0.523453\n",
      "[88]\tvalid_0's auc: 0.52328\n",
      "[89]\tvalid_0's auc: 0.523227\n",
      "[90]\tvalid_0's auc: 0.522986\n",
      "[91]\tvalid_0's auc: 0.522882\n",
      "[92]\tvalid_0's auc: 0.52271\n",
      "[93]\tvalid_0's auc: 0.522625\n",
      "[94]\tvalid_0's auc: 0.522515\n",
      "[95]\tvalid_0's auc: 0.522233\n",
      "[96]\tvalid_0's auc: 0.522219\n",
      "[97]\tvalid_0's auc: 0.522205\n",
      "[98]\tvalid_0's auc: 0.522177\n",
      "[99]\tvalid_0's auc: 0.521991\n",
      "[100]\tvalid_0's auc: 0.521874\n",
      "[101]\tvalid_0's auc: 0.521933\n",
      "Early stopping, best iteration is:\n",
      "[1]\tvalid_0's auc: 0.526312\n"
     ]
    }
   ],
   "source": [
    "parameters = {\n",
    "    'application': 'binary',\n",
    "    'objective': 'binary',\n",
    "    'metric': 'auc',\n",
    "    'is_unbalance': 'true',\n",
    "    'boosting': 'gbdt',\n",
    "    'num_leaves': 31,\n",
    "    'feature_fraction': 0.5,\n",
    "    'bagging_fraction': 0.5,\n",
    "    'bagging_freq': 20,\n",
    "    'learning_rate': 0.05,\n",
    "    'verbose': 1\n",
    "}\n",
    "\n",
    "model = lightgbm.train(parameters,\n",
    "                       train_data,\n",
    "                       valid_sets=val_data,\n",
    "                       num_boost_round=5000,\n",
    "                       early_stopping_rounds=100)"
   ]
  },
  {
   "cell_type": "code",
   "execution_count": null,
   "metadata": {},
   "outputs": [],
   "source": [
    "# # Auto-ML\n",
    "\n",
    "# shutil.rmtree(config.output_automl_path, ignore_errors=True)\n",
    "# shutil.rmtree(config.tmp_automl_path, ignore_errors=True)\n",
    "# automl = AutoSklearnClassifier(\n",
    "#     time_left_for_this_task=180,\n",
    "#     per_run_time_limit=60,\n",
    "#     tmp_folder=config.tmp_automl_path,  # automated\n",
    "#     output_folder=config.output_automl_path,\n",
    "#     # metric=roc_auc\n",
    "# )\n",
    "\n",
    "# automl.fit(X_train, \n",
    "#             y_train,\n",
    "#             dataset_name='d2v_small')\n",
    "\n",
    "# ############################################################################\n",
    "# # Print the final ensemble constructed by auto-sklearn\n",
    "# # ====================================================\n",
    "\n",
    "# print(automl.show_models())"
   ]
  },
  {
   "cell_type": "code",
   "execution_count": 10,
   "metadata": {},
   "outputs": [
    {
     "output_type": "stream",
     "name": "stdout",
     "text": [
      "Accuracy score: 0.7549800808956434\n",
      "MCC: 0.0\n"
     ]
    }
   ],
   "source": [
    "from sklearn.metrics import *\n",
    "\n",
    "###########################################################################\n",
    "# Get the Score of the final ensemble\n",
    "# ===================================\n",
    "probs = model.predict(X_test)\n",
    "predictions = probs > 0.5\n",
    "# proba = model.predict_proba(X_test)\n",
    "\n",
    "print(\"Accuracy score:\", accuracy_score(y_test, predictions))\n",
    "print(\"MCC:\", matthews_corrcoef(y_test, predictions))\n",
    "# print(\"AUC:\", auc(y_test, predictions))"
   ]
  },
  {
   "cell_type": "code",
   "execution_count": 9,
   "metadata": {},
   "outputs": [
    {
     "output_type": "error",
     "ename": "ValueError",
     "evalue": "Classification metrics can't handle a mix of binary and continuous targets",
     "traceback": [
      "\u001b[0;31m---------------------------------------------------------------------------\u001b[0m",
      "\u001b[0;31mValueError\u001b[0m                                Traceback (most recent call last)",
      "\u001b[0;32m<ipython-input-9-069ca9536294>\u001b[0m in \u001b[0;36m<module>\u001b[0;34m\u001b[0m\n\u001b[0;32m----> 1\u001b[0;31m \u001b[0mcm\u001b[0m \u001b[0;34m=\u001b[0m \u001b[0mconfusion_matrix\u001b[0m\u001b[0;34m(\u001b[0m\u001b[0my_test\u001b[0m\u001b[0;34m,\u001b[0m \u001b[0mpredictions\u001b[0m\u001b[0;34m)\u001b[0m\u001b[0;34m\u001b[0m\u001b[0;34m\u001b[0m\u001b[0m\n\u001b[0m\u001b[1;32m      2\u001b[0m disp = ConfusionMatrixDisplay(confusion_matrix=cm,\n\u001b[1;32m      3\u001b[0m                               display_labels=[\"Ignored\",\"Matched\"])\n\u001b[1;32m      4\u001b[0m \u001b[0mdisp\u001b[0m\u001b[0;34m.\u001b[0m\u001b[0mplot\u001b[0m\u001b[0;34m(\u001b[0m\u001b[0;34m)\u001b[0m\u001b[0;34m\u001b[0m\u001b[0;34m\u001b[0m\u001b[0m\n",
      "\u001b[0;32m/opt/conda/envs/d2v_env/lib/python3.7/site-packages/sklearn/utils/validation.py\u001b[0m in \u001b[0;36minner_f\u001b[0;34m(*args, **kwargs)\u001b[0m\n\u001b[1;32m     70\u001b[0m                           FutureWarning)\n\u001b[1;32m     71\u001b[0m         \u001b[0mkwargs\u001b[0m\u001b[0;34m.\u001b[0m\u001b[0mupdate\u001b[0m\u001b[0;34m(\u001b[0m\u001b[0;34m{\u001b[0m\u001b[0mk\u001b[0m\u001b[0;34m:\u001b[0m \u001b[0marg\u001b[0m \u001b[0;32mfor\u001b[0m \u001b[0mk\u001b[0m\u001b[0;34m,\u001b[0m \u001b[0marg\u001b[0m \u001b[0;32min\u001b[0m \u001b[0mzip\u001b[0m\u001b[0;34m(\u001b[0m\u001b[0msig\u001b[0m\u001b[0;34m.\u001b[0m\u001b[0mparameters\u001b[0m\u001b[0;34m,\u001b[0m \u001b[0margs\u001b[0m\u001b[0;34m)\u001b[0m\u001b[0;34m}\u001b[0m\u001b[0;34m)\u001b[0m\u001b[0;34m\u001b[0m\u001b[0;34m\u001b[0m\u001b[0m\n\u001b[0;32m---> 72\u001b[0;31m         \u001b[0;32mreturn\u001b[0m \u001b[0mf\u001b[0m\u001b[0;34m(\u001b[0m\u001b[0;34m**\u001b[0m\u001b[0mkwargs\u001b[0m\u001b[0;34m)\u001b[0m\u001b[0;34m\u001b[0m\u001b[0;34m\u001b[0m\u001b[0m\n\u001b[0m\u001b[1;32m     73\u001b[0m     \u001b[0;32mreturn\u001b[0m \u001b[0minner_f\u001b[0m\u001b[0;34m\u001b[0m\u001b[0;34m\u001b[0m\u001b[0m\n\u001b[1;32m     74\u001b[0m \u001b[0;34m\u001b[0m\u001b[0m\n",
      "\u001b[0;32m/opt/conda/envs/d2v_env/lib/python3.7/site-packages/sklearn/metrics/_classification.py\u001b[0m in \u001b[0;36mconfusion_matrix\u001b[0;34m(y_true, y_pred, labels, sample_weight, normalize)\u001b[0m\n\u001b[1;32m    274\u001b[0m \u001b[0;34m\u001b[0m\u001b[0m\n\u001b[1;32m    275\u001b[0m     \"\"\"\n\u001b[0;32m--> 276\u001b[0;31m     \u001b[0my_type\u001b[0m\u001b[0;34m,\u001b[0m \u001b[0my_true\u001b[0m\u001b[0;34m,\u001b[0m \u001b[0my_pred\u001b[0m \u001b[0;34m=\u001b[0m \u001b[0m_check_targets\u001b[0m\u001b[0;34m(\u001b[0m\u001b[0my_true\u001b[0m\u001b[0;34m,\u001b[0m \u001b[0my_pred\u001b[0m\u001b[0;34m)\u001b[0m\u001b[0;34m\u001b[0m\u001b[0;34m\u001b[0m\u001b[0m\n\u001b[0m\u001b[1;32m    277\u001b[0m     \u001b[0;32mif\u001b[0m \u001b[0my_type\u001b[0m \u001b[0;32mnot\u001b[0m \u001b[0;32min\u001b[0m \u001b[0;34m(\u001b[0m\u001b[0;34m\"binary\"\u001b[0m\u001b[0;34m,\u001b[0m \u001b[0;34m\"multiclass\"\u001b[0m\u001b[0;34m)\u001b[0m\u001b[0;34m:\u001b[0m\u001b[0;34m\u001b[0m\u001b[0;34m\u001b[0m\u001b[0m\n\u001b[1;32m    278\u001b[0m         \u001b[0;32mraise\u001b[0m \u001b[0mValueError\u001b[0m\u001b[0;34m(\u001b[0m\u001b[0;34m\"%s is not supported\"\u001b[0m \u001b[0;34m%\u001b[0m \u001b[0my_type\u001b[0m\u001b[0;34m)\u001b[0m\u001b[0;34m\u001b[0m\u001b[0;34m\u001b[0m\u001b[0m\n",
      "\u001b[0;32m/opt/conda/envs/d2v_env/lib/python3.7/site-packages/sklearn/metrics/_classification.py\u001b[0m in \u001b[0;36m_check_targets\u001b[0;34m(y_true, y_pred)\u001b[0m\n\u001b[1;32m     89\u001b[0m     \u001b[0;32mif\u001b[0m \u001b[0mlen\u001b[0m\u001b[0;34m(\u001b[0m\u001b[0my_type\u001b[0m\u001b[0;34m)\u001b[0m \u001b[0;34m>\u001b[0m \u001b[0;36m1\u001b[0m\u001b[0;34m:\u001b[0m\u001b[0;34m\u001b[0m\u001b[0;34m\u001b[0m\u001b[0m\n\u001b[1;32m     90\u001b[0m         raise ValueError(\"Classification metrics can't handle a mix of {0} \"\n\u001b[0;32m---> 91\u001b[0;31m                          \"and {1} targets\".format(type_true, type_pred))\n\u001b[0m\u001b[1;32m     92\u001b[0m \u001b[0;34m\u001b[0m\u001b[0m\n\u001b[1;32m     93\u001b[0m     \u001b[0;31m# We can't have more than one value on y_type => The set is no more needed\u001b[0m\u001b[0;34m\u001b[0m\u001b[0;34m\u001b[0m\u001b[0;34m\u001b[0m\u001b[0m\n",
      "\u001b[0;31mValueError\u001b[0m: Classification metrics can't handle a mix of binary and continuous targets"
     ]
    }
   ],
   "source": [
    "cm = confusion_matrix(y_test, predictions)\n",
    "disp = ConfusionMatrixDisplay(confusion_matrix=cm,\n",
    "                              display_labels=[\"Ignored\",\"Matched\"])\n",
    "disp.plot()"
   ]
  },
  {
   "cell_type": "code",
   "execution_count": null,
   "metadata": {},
   "outputs": [],
   "source": []
  }
 ],
 "metadata": {
  "kernelspec": {
   "display_name": "Python (d2v_env)",
   "language": "python",
   "name": "d2v_env"
  },
  "language_info": {
   "codemirror_mode": {
    "name": "ipython",
    "version": 3
   },
   "file_extension": ".py",
   "mimetype": "text/x-python",
   "name": "python",
   "nbconvert_exporter": "python",
   "pygments_lexer": "ipython3",
   "version": "3.7.9-final"
  }
 },
 "nbformat": 4,
 "nbformat_minor": 4
}
