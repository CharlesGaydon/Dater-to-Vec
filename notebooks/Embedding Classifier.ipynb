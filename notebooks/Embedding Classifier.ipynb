{
 "metadata": {
  "language_info": {
   "codemirror_mode": {
    "name": "ipython",
    "version": 3
   },
   "file_extension": ".py",
   "mimetype": "text/x-python",
   "name": "python",
   "nbconvert_exporter": "python",
   "pygments_lexer": "ipython3",
   "version": "3.7.9-final"
  },
  "orig_nbformat": 2,
  "kernelspec": {
   "name": "python3",
   "display_name": "Python 3",
   "language": "python"
  }
 },
 "nbformat": 4,
 "nbformat_minor": 2,
 "cells": [
  {
   "cell_type": "code",
   "execution_count": 24,
   "metadata": {},
   "outputs": [],
   "source": [
    "import pandas as pd\n",
    "import numpy as np\n",
    "import pickle\n",
    "import matplotlib.pyplot as plt\n",
    "\n",
    "import sys\n",
    "from tqdm import tqdm\n",
    "sys.path.insert(0, \"../src\")\n",
    "sys.path.insert(0, \"../\")\n",
    "import shutil\n",
    "from d2v_recommender import *\n",
    "from config import config"
   ]
  },
  {
   "cell_type": "code",
   "execution_count": 2,
   "metadata": {},
   "outputs": [
    {
     "output_type": "stream",
     "name": "stdout",
     "text": [
      "(135359, 1) 125474\n"
     ]
    }
   ],
   "source": [
    "recommender = D2V_Recommender()\n",
    "recommender.load_rater_vec(config.rater_embeddings_path)\n",
    "recommender.load_rated_vec(config.rated_embeddings_path)\n",
    "print(recommender.mean_embeddings.shape, len(recommender.wv.index2word))"
   ]
  },
  {
   "cell_type": "code",
   "execution_count": 14,
   "metadata": {},
   "outputs": [
    {
     "output_type": "execute_result",
     "data": {
      "text/plain": [
       "           rater   rated    m\n",
       "6168461    81684  188927  0.0\n",
       "14727985   32084   57368  0.0\n",
       "4478599    24899  114815  0.0\n",
       "9644512   104628   97280  0.0\n",
       "7947499    61534   26742  0.0"
      ],
      "text/html": "<div>\n<style scoped>\n    .dataframe tbody tr th:only-of-type {\n        vertical-align: middle;\n    }\n\n    .dataframe tbody tr th {\n        vertical-align: top;\n    }\n\n    .dataframe thead th {\n        text-align: right;\n    }\n</style>\n<table border=\"1\" class=\"dataframe\">\n  <thead>\n    <tr style=\"text-align: right;\">\n      <th></th>\n      <th>rater</th>\n      <th>rated</th>\n      <th>m</th>\n    </tr>\n  </thead>\n  <tbody>\n    <tr>\n      <th>6168461</th>\n      <td>81684</td>\n      <td>188927</td>\n      <td>0.0</td>\n    </tr>\n    <tr>\n      <th>14727985</th>\n      <td>32084</td>\n      <td>57368</td>\n      <td>0.0</td>\n    </tr>\n    <tr>\n      <th>4478599</th>\n      <td>24899</td>\n      <td>114815</td>\n      <td>0.0</td>\n    </tr>\n    <tr>\n      <th>9644512</th>\n      <td>104628</td>\n      <td>97280</td>\n      <td>0.0</td>\n    </tr>\n    <tr>\n      <th>7947499</th>\n      <td>61534</td>\n      <td>26742</td>\n      <td>0.0</td>\n    </tr>\n  </tbody>\n</table>\n</div>"
     },
     "metadata": {},
     "execution_count": 14
    }
   ],
   "source": [
    "train = pd.read_csv(config.train_data_path).sample(frac=1)\n",
    "x_train = train.iloc[:,:2].values\n",
    "y_train = train.iloc[:,2].values\n",
    "train.head()\n"
   ]
  },
  {
   "cell_type": "code",
   "execution_count": 15,
   "metadata": {},
   "outputs": [
    {
     "output_type": "stream",
     "name": "stderr",
     "text": [
      "100%|██████████| 125474/125474 [00:02<00:00, 44344.49it/s]\n"
     ]
    }
   ],
   "source": [
    "max_rater_idx, max_rated_idx, _ = train.max()\n",
    "\n",
    "offset_vector = np.zeros((1, config.d2v_params[\"embedding_size\"]))\n",
    "rater_embedding_matrix = np.vstack([offset_vector, np.stack(recommender.mean_embeddings.values[:,0])])\n",
    "\n",
    "rated_id_to_emb_idx = {}\n",
    "rated_embedding_matrix = np.zeros((int(max_rated_idx) + 1, config.d2v_params[\"embedding_size\"]))\n",
    "# unknown rated will have embedding of zero\n",
    "for user_id_str in tqdm(recommender.wv.vocab.keys()):\n",
    "    embedding_vector = recommender.wv[user_id_str]\n",
    "    if embedding_vector is not None:\n",
    "        user_id_int = int(user_id_str)\n",
    "        rated_embedding_matrix[user_id_int] = embedding_vector"
   ]
  },
  {
   "cell_type": "code",
   "execution_count": 16,
   "metadata": {},
   "outputs": [
    {
     "output_type": "execute_result",
     "data": {
      "text/plain": [
       "(array([0., 0., 0., 0., 0., 0., 0., 0., 0., 0., 0., 0., 0., 0., 0., 0., 0.,\n",
       "        0., 0., 0., 0., 0., 0., 0., 0., 0., 0., 0., 0., 0., 0., 0., 0., 0.,\n",
       "        0., 0., 0., 0., 0., 0., 0., 0., 0., 0., 0., 0., 0., 0., 0., 0., 0.,\n",
       "        0., 0., 0., 0., 0., 0., 0., 0., 0., 0., 0., 0., 0., 0., 0., 0., 0.,\n",
       "        0., 0., 0., 0., 0., 0., 0., 0., 0., 0., 0., 0., 0., 0., 0., 0., 0.,\n",
       "        0., 0., 0., 0., 0., 0., 0., 0., 0., 0., 0., 0., 0., 0., 0.]),\n",
       " array([0., 0., 0., 0., 0., 0., 0., 0., 0., 0., 0., 0., 0., 0., 0., 0., 0.,\n",
       "        0., 0., 0., 0., 0., 0., 0., 0., 0., 0., 0., 0., 0., 0., 0., 0., 0.,\n",
       "        0., 0., 0., 0., 0., 0., 0., 0., 0., 0., 0., 0., 0., 0., 0., 0., 0.,\n",
       "        0., 0., 0., 0., 0., 0., 0., 0., 0., 0., 0., 0., 0., 0., 0., 0., 0.,\n",
       "        0., 0., 0., 0., 0., 0., 0., 0., 0., 0., 0., 0., 0., 0., 0., 0., 0.,\n",
       "        0., 0., 0., 0., 0., 0., 0., 0., 0., 0., 0., 0., 0., 0., 0.]))"
      ]
     },
     "metadata": {},
     "execution_count": 16
    }
   ],
   "source": [
    " recommender.wv[\"10\"] - rated_embedding_matrix[10], rater_embedding_matrix[10] - recommender.mean_embeddings.loc[\"10\"].values[0]"
   ]
  },
  {
   "cell_type": "code",
   "execution_count": 36,
   "metadata": {},
   "outputs": [
    {
     "output_type": "stream",
     "name": "stdout",
     "text": [
      "Model: \"functional_13\"\n__________________________________________________________________________________________________\nLayer (type)                    Output Shape         Param #     Connected to                     \n==================================================================================================\ninput_13 (InputLayer)           [(None, 1)]          0                                            \n__________________________________________________________________________________________________\ninput_14 (InputLayer)           [(None, 1)]          0                                            \n__________________________________________________________________________________________________\nembedding_12 (Embedding)        (None, 1, 100)       13536000    input_13[0][0]                   \n__________________________________________________________________________________________________\nembedding_13 (Embedding)        (None, 1, 100)       22097100    input_14[0][0]                   \n__________________________________________________________________________________________________\nconcatenate_6 (Concatenate)     (None, 1, 200)       0           embedding_12[0][0]               \n                                                                 embedding_13[0][0]               \n__________________________________________________________________________________________________\ndense_18 (Dense)                (None, 1, 50)        10050       concatenate_6[0][0]              \n__________________________________________________________________________________________________\ndense_19 (Dense)                (None, 1, 25)        1275        dense_18[0][0]                   \n__________________________________________________________________________________________________\ndense_20 (Dense)                (None, 1, 1)         26          dense_19[0][0]                   \n==================================================================================================\nTotal params: 35,644,451\nTrainable params: 11,351\nNon-trainable params: 35,633,100\n__________________________________________________________________________________________________\n"
     ]
    }
   ],
   "source": [
    "# Keras model with two unmutable embedding layers\n",
    "# We create them so as not to change the input data.\n",
    "\n",
    "from keras.layers import Embedding, concatenate, Dense\n",
    "from keras import Model, Input\n",
    "from keras.metrics import AUC\n",
    "from keras.callbacks import EarlyStopping\n",
    "\n",
    "input_1 = Input(shape=(1,))\n",
    "emb_1 = Embedding(\n",
    "    int(max_rater_idx) + 1,\n",
    "    config.d2v_params[\"embedding_size\"],\n",
    "    weights = [rater_embedding_matrix],\n",
    "    trainable = False,\n",
    "    input_length=1,\n",
    ")\n",
    "emb_1 = emb_1(input_1)\n",
    "\n",
    "input_2 = Input(shape=(1,))\n",
    "emb_2 = Embedding(\n",
    "    int(max_rated_idx) + 1,\n",
    "    config.d2v_params[\"embedding_size\"],\n",
    "    weights = [rated_embedding_matrix],\n",
    "    trainable = False,\n",
    "    input_length=1,\n",
    ")\n",
    "emb_2 = emb_2(input_2)\n",
    "\n",
    "merge = concatenate([emb_1, emb_2])\n",
    "dense1 = Dense(50, activation='relu')(merge)\n",
    "dense2 = Dense(25, activation='relu')(dense1)\n",
    "dense3 = Dense(1, activation=\"sigmoid\")(dense2)\n",
    "\n",
    "# dense = Dense\n",
    "\n",
    "\n",
    "model = Model(inputs=[input_1, input_2], outputs=dense3)\n",
    "model.compile(loss='binary_crossentropy', \n",
    "                optimizer='adam',\n",
    "                metrics=['accuracy',AUC()])\n",
    "model.summary()\n"
   ]
  },
  {
   "cell_type": "code",
   "execution_count": 40,
   "metadata": {},
   "outputs": [
    {
     "output_type": "stream",
     "name": "stdout",
     "text": [
      "Epoch 1/500\n",
      "704/704 [==============================] - 3s 5ms/step - loss: 0.4192 - accuracy: 0.8214 - auc_3: 0.8049 - val_loss: 0.3825 - val_accuracy: 0.8417 - val_auc_3: 0.8437\n",
      "Epoch 2/500\n",
      "704/704 [==============================] - 3s 4ms/step - loss: 0.3564 - accuracy: 0.8503 - auc_3: 0.8684 - val_loss: 0.3538 - val_accuracy: 0.8544 - val_auc_3: 0.8708\n",
      "Epoch 3/500\n",
      "704/704 [==============================] - 3s 5ms/step - loss: 0.3309 - accuracy: 0.8586 - auc_3: 0.8895 - val_loss: 0.3446 - val_accuracy: 0.8561 - val_auc_3: 0.8807\n",
      "Epoch 4/500\n",
      "704/704 [==============================] - 3s 5ms/step - loss: 0.3139 - accuracy: 0.8663 - auc_3: 0.9025 - val_loss: 0.3348 - val_accuracy: 0.8606 - val_auc_3: 0.8873\n",
      "Epoch 5/500\n",
      "704/704 [==============================] - 3s 4ms/step - loss: 0.3003 - accuracy: 0.8716 - auc_3: 0.9122 - val_loss: 0.3308 - val_accuracy: 0.8613 - val_auc_3: 0.8939\n",
      "Epoch 6/500\n",
      "704/704 [==============================] - 3s 4ms/step - loss: 0.2898 - accuracy: 0.8758 - auc_3: 0.9191 - val_loss: 0.3297 - val_accuracy: 0.8589 - val_auc_3: 0.8952\n",
      "Epoch 7/500\n",
      "704/704 [==============================] - 3s 4ms/step - loss: 0.2809 - accuracy: 0.8796 - auc_3: 0.9246 - val_loss: 0.3258 - val_accuracy: 0.8614 - val_auc_3: 0.8992\n",
      "Epoch 8/500\n",
      "704/704 [==============================] - 3s 4ms/step - loss: 0.2731 - accuracy: 0.8831 - auc_3: 0.9292 - val_loss: 0.3207 - val_accuracy: 0.8609 - val_auc_3: 0.9034\n",
      "Epoch 9/500\n",
      "691/704 [============================>.] - ETA: 0s - loss: 0.2662 - accuracy: 0.8859 - auc_3: 0.9331Restoring model weights from the end of the best epoch.\n",
      "704/704 [==============================] - 3s 5ms/step - loss: 0.2663 - accuracy: 0.8858 - auc_3: 0.9331 - val_loss: 0.3231 - val_accuracy: 0.8661 - val_auc_3: 0.9032\n",
      "Epoch 00009: early stopping\n"
     ]
    }
   ],
   "source": [
    "subset = len(x_train)+1  # all data\n",
    "# subset = 100000\n",
    "early_stopping = EarlyStopping(\n",
    "    monitor='val_loss', min_delta=0, patience=0, verbose=1,\n",
    "    mode='auto', baseline=None, restore_best_weights=True\n",
    ")\n",
    "history = model.fit([x_train[:subset,0], x_train[:subset,1]], \n",
    "            y_train[:subset], \n",
    "            validation_split=0.1,\n",
    "            epochs=500, \n",
    "            batch_size=128,\n",
    "            callbacks=[early_stopping])"
   ]
  },
  {
   "cell_type": "code",
   "execution_count": 38,
   "metadata": {},
   "outputs": [
    {
     "output_type": "error",
     "ename": "KeyError",
     "evalue": "'val_auc_2'",
     "traceback": [
      "\u001b[0;31m---------------------------------------------------------------------------\u001b[0m",
      "\u001b[0;31mKeyError\u001b[0m                                  Traceback (most recent call last)",
      "\u001b[0;32m<ipython-input-38-bf643affcdef>\u001b[0m in \u001b[0;36m<module>\u001b[0;34m\u001b[0m\n\u001b[0;32m----> 1\u001b[0;31m \u001b[0mplt\u001b[0m\u001b[0;34m.\u001b[0m\u001b[0mplot\u001b[0m\u001b[0;34m(\u001b[0m\u001b[0mhistory\u001b[0m\u001b[0;34m.\u001b[0m\u001b[0mhistory\u001b[0m\u001b[0;34m[\u001b[0m\u001b[0;34m'val_auc_2'\u001b[0m\u001b[0;34m]\u001b[0m\u001b[0;34m)\u001b[0m\u001b[0;34m\u001b[0m\u001b[0;34m\u001b[0m\u001b[0m\n\u001b[0m",
      "\u001b[0;31mKeyError\u001b[0m: 'val_auc_2'"
     ]
    }
   ],
   "source": [
    "plt.plot(history.history['val_auc_2'])\n"
   ]
  },
  {
   "cell_type": "code",
   "execution_count": null,
   "metadata": {},
   "outputs": [],
   "source": []
  }
 ]
}
